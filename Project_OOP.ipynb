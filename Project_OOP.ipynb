{
  "nbformat": 4,
  "nbformat_minor": 0,
  "metadata": {
    "colab": {
      "provenance": [],
      "authorship_tag": "ABX9TyP66FV1HvMxSxKufr7bfhXP",
      "include_colab_link": true
    },
    "kernelspec": {
      "name": "python3",
      "display_name": "Python 3"
    },
    "language_info": {
      "name": "python"
    }
  },
  "cells": [
    {
      "cell_type": "markdown",
      "metadata": {
        "id": "view-in-github",
        "colab_type": "text"
      },
      "source": [
        "<a href=\"https://colab.research.google.com/github/vixbi/actprobl/blob/main/Project_OOP.ipynb\" target=\"_parent\"><img src=\"https://colab.research.google.com/assets/colab-badge.svg\" alt=\"Open In Colab\"/></a>"
      ]
    },
    {
      "cell_type": "markdown",
      "source": [
        "# **Создание рабочей папки для работы с Kaldi**\n",
        "\n"
      ],
      "metadata": {
        "id": "lq-nEU0YVjGK"
      }
    },
    {
      "cell_type": "markdown",
      "source": [
        "## **Критерии:**\n",
        "1. Использование классов. (2 балла)\n",
        "2. Использование наследования. (2 балла)\n",
        "3. Три библиотеки из тех, что приходится ставить своими руками. (1 балла)\n",
        "4. \"Синтаксический сахар\" Питона (декораторы, перегрузка операторов, исключения, примочки из последнего стандарта, ...). (2 балла)\n",
        "5. Юнит-тесты. (1 балл)\n",
        "6. Красивая структура классов, проекта, решения; субъективное мнение преподавателя (2 балла).\n",
        "7. Шаблоны проектирования (1 балл).**Текст, выделенный полужирным шрифтом**"
      ],
      "metadata": {
        "id": "5dpNj8wHNCk-"
      }
    },
    {
      "cell_type": "markdown",
      "source": [
        "## **Цели и результат**\n",
        "Существует инструмент Kaldi, позволяющий обучать модели для автоматического распознавания речи на собственном материале. К сожалению, у Kaldi отсутствует интерфейс, а ручная подготовка материала к работе на собственном материале занимает достаточнот много времени и требует огромной внимательности даже при следовании самому базовому туториалу.\n",
        "\n",
        "Данный проект призван облегчить работу пользователя с Kaldi в части подготовки обучающего и тестового материалов.\n",
        "\n",
        "*   На входе принимаются директории, в которых находятся необходимые аудио- и видео- данные, а также директория, в которую необходимо поместить результат (дефолт - ...)\n",
        "*   На выходе пользователь получает готовую для работы с Kaldi папку.\n"
      ],
      "metadata": {
        "id": "Ae5cT28FVahv"
      }
    },
    {
      "cell_type": "markdown",
      "source": [
        "## **Планируемая структура кода**\n",
        "- input пользователя: директория аудио- и текстового файла; try-except в случае отсутствия файлов в указанных директориях, желаемая работа с Kaldi (хочет ли он работать со стандартными транскрипциями и классическим словарем или со словарем аллофонов)\n",
        "- класс *File*: абстрактный класс\n",
        "- классы *Textgrid* и *Simplified_TextGrid* (наследуют File): преобразуют нетипичные форматы в нормальные форматы для работы Utterance\n",
        "- класс *Utterance*: создает объекты типа Utterance, о которых определена следующая информация (возможно, переопределить тут __add__):\n",
        " - ID высказывания\n",
        " - тайм-код высказывания\n",
        " - орфографическая расшифровка\n",
        " - транскрипция высказывания\n",
        " - файл, которому принадлежит высказывание\n",
        "- Юнит-тесты:\n",
        " - проверяют, в нужном ли формате файлы (для класса File)\n",
        " - проверяют, совпадает ли предлагаемый текстовый файл с аудиофайлом (если у них разные тайм-коды, то как бы да)\n",
        "\n",
        "Еще штуки:\n",
        "- декоратор @progress_bar для показа прогресса по разным процессам\n",
        "\n",
        "---\n",
        "\n",
        " **Библиотеки:**\n",
        "```\n",
        "import re # работа с текстом транскрипции (его предобработка)\n",
        "import os # работа с директориями\n",
        "from sklearn.model_selection import train_test_split # деление на выборки\n",
        "from pydub import AudioSegment # нарезка\n",
        "from progress.bar import IncrementalBar # отслеживает процесс нарезки\n",
        "```\n"
      ],
      "metadata": {
        "id": "XqskNRw3NMbX"
      }
    },
    {
      "cell_type": "code",
      "source": [
        "import os\n",
        "import re\n",
        "from sklearn.model_selection import train_test_split"
      ],
      "metadata": {
        "id": "wPseLbhDNDN9"
      },
      "execution_count": null,
      "outputs": []
    },
    {
      "cell_type": "code",
      "source": [
        "# функция для обработки файлов STG\n",
        "def SimplifiedTextGreed(file):\n",
        "  with open(file) as f:\n",
        "    masha = [[i.strip() for i in (line.split(\"\\t\"))] for line in f]\n",
        "\n",
        "  def contains_cyrillic(text):\n",
        "    return bool(re.search(r'[\\u0400-\\u04FF]', text))\n",
        "\n",
        "  future_list = []\n",
        "  for i in masha:\n",
        "    t_list = []\n",
        "    if contains_cyrillic(i[2]) == True and i[2] != \"<нрзб>\":\n",
        "        t_list.append(i[2])\n",
        "        t_list.append('[imitation]')\n",
        "        t_list.append(f\"{i[0]} {i[3]}\")\n",
        "        future_list.append(' '.join(t_list))\n",
        "\n",
        "  return future_list"
      ],
      "metadata": {
        "id": "oxkVawNv6V4J"
      },
      "execution_count": null,
      "outputs": []
    },
    {
      "cell_type": "code",
      "source": [
        "with open('guest01.txt') as file:\n",
        "    gue01 = [[i.strip() for i in re.split('\\[|\\]', line)]\n",
        "             for line in file if '[' in line and 'хезит' not in line]"
      ],
      "metadata": {
        "id": "f9GpEFC51seL"
      },
      "execution_count": null,
      "outputs": []
    },
    {
      "cell_type": "code",
      "source": [
        "class Utterance:\n",
        "    def __init__(self, list_for_line, k):\n",
        "      self.orpho = re.sub(r'\\W', r'_', list_for_line[0])\n",
        "      self.trans = re.sub(r'\\d\\?\\)\\(', r'', list_for_line[1])\n",
        "      self.timecode = [float(time)*1000 for time in list_for_line[2].split(' ')]\n",
        "      self.id = k\n",
        "\n",
        "    def __repr__(self):\n",
        "        return f\"{self.orpho, self.trans, self.timecode, self.id}\""
      ],
      "metadata": {
        "id": "sQ9QgrZt1jhl"
      },
      "execution_count": null,
      "outputs": []
    },
    {
      "cell_type": "code",
      "source": [
        "class File:\n",
        "  def __init__(self):\n"
      ],
      "metadata": {
        "id": "rVgY1CVp9gye"
      },
      "execution_count": null,
      "outputs": []
    },
    {
      "cell_type": "code",
      "source": [
        "a = Utterance(gue01[0], 0)\n",
        "a"
      ],
      "metadata": {
        "colab": {
          "base_uri": "https://localhost:8080/"
        },
        "id": "7gAReG3h5U1r",
        "outputId": "f0e979a5-dc74-4730-b22b-74a2eed392be"
      },
      "execution_count": null,
      "outputs": [
        {
          "output_type": "execute_result",
          "data": {
            "text/plain": [
              "('утренний_гость', \"utr'in'i goIs't'\", [5301.0, 6740.0], 0)"
            ]
          },
          "metadata": {},
          "execution_count": 64
        }
      ]
    },
    {
      "cell_type": "code",
      "source": [],
      "metadata": {
        "id": "wOWaYSC4Ak9w"
      },
      "execution_count": null,
      "outputs": []
    },
    {
      "cell_type": "markdown",
      "source": [
        "# **Коробочка. Упражнение**"
      ],
      "metadata": {
        "id": "N-n-LwbCAlsi"
      }
    },
    {
      "cell_type": "code",
      "source": [
        "class BoxException(Exception):\n",
        "  def __init__(self, message):\n",
        "    self.message = message\n",
        "    super().__init__(message)\n",
        "\n",
        "  def __str__(self):\n",
        "    return f\"{self.message}\""
      ],
      "metadata": {
        "id": "DoxzJBZZVJ34"
      },
      "execution_count": 1,
      "outputs": []
    },
    {
      "cell_type": "code",
      "source": [
        "def b(k, g):\n",
        "  if k/g > 1:\n",
        "    raise BoxException(\"Oh, I guess there's no space left\")\n",
        "  return k/g\n"
      ],
      "metadata": {
        "id": "ywoamsgzXj7B"
      },
      "execution_count": 2,
      "outputs": []
    },
    {
      "cell_type": "code",
      "source": [
        "def well_decorator(func):\n",
        "  def new_func(*args, **kwargs):\n",
        "    try:\n",
        "      func(*args, **kwargs)\n",
        "      return True\n",
        "    except:\n",
        "      return False\n",
        "  return new_func\n",
        "\n",
        "@well_decorator\n",
        "def names(a, b):\n",
        "  print(a, b)"
      ],
      "metadata": {
        "id": "OtXGfBJRXv6x"
      },
      "execution_count": 20,
      "outputs": []
    },
    {
      "cell_type": "code",
      "source": [
        "names('lada', 'anton')"
      ],
      "metadata": {
        "colab": {
          "base_uri": "https://localhost:8080/"
        },
        "id": "lMX6KVfYC1pR",
        "outputId": "f61994a8-5bdf-44c0-8546-8917d3253099"
      },
      "execution_count": 21,
      "outputs": [
        {
          "output_type": "stream",
          "name": "stdout",
          "text": [
            "lada anton\n"
          ]
        },
        {
          "output_type": "execute_result",
          "data": {
            "text/plain": [
              "True"
            ]
          },
          "metadata": {},
          "execution_count": 21
        }
      ]
    },
    {
      "cell_type": "code",
      "source": [
        "class Korobochka:\n",
        "  def __init__(self, a, b, c):\n",
        "    self.shirina = a\n",
        "    self.dlina = b\n",
        "    self.vysota = c\n",
        "    self.__list = []\n",
        "    self.__fulled = 0\n",
        "\n",
        "  def objem(self):\n",
        "    return self.shirina*self.dlina*self.vysota\n",
        "\n",
        "  def enlarge(self, k):\n",
        "    self.shirina *= k\n",
        "    self.dlina *= k\n",
        "    self.vysota *= k\n",
        "\n",
        "  def l(self):\n",
        "    if self.objem() < self.__fulled:\n",
        "      raise BoxException(\"Oh, I guess there's no space left\")\n",
        "    return self.objem()/self.__fulled\n",
        "\n",
        "  def put(self, new_korobochka):\n",
        "    if self.objem() < (self.__fulled + new_korobochka.objem()):\n",
        "      raise BoxException(\"Oh, I guess there's no space left\")\n",
        "    else:\n",
        "      self.__list.append(new_korobochka)\n",
        "      self.__fulled += new_korobochka.objem()\n",
        "\n",
        "  def get_items(self):\n",
        "    return self.__list\n",
        "\n",
        "\n",
        "  def __repr__(self):\n",
        "    return f\"\"\"Hello, I am a Box! My length is {self.dlina},\n",
        "    my width is {self.shirina}, my height is {self.vysota}.\n",
        "    I am not that large, my volume is only {self.objem()}. You \\\n",
        "    can enlarge me, using Box.enlarge()\"\"\""
      ],
      "metadata": {
        "id": "Z-4HohB8CF-3"
      },
      "execution_count": 61,
      "outputs": []
    },
    {
      "cell_type": "code",
      "source": [
        "import unittest"
      ],
      "metadata": {
        "id": "OOGvQQ8VHxuU"
      },
      "execution_count": 62,
      "outputs": []
    },
    {
      "cell_type": "code",
      "source": [
        "class TestCorobochka(unittest.TestCase):\n",
        "  def setUp(self):\n",
        "    self.k1 = Korobochka(4, 6, 8).objem()\n",
        "    self.k2 = Korobochka(1, 1, 1).put(Korobochka(1, 4, 1))\n",
        "\n",
        "  def test_objem(self):\n",
        "     self.assertEqual(self.k1, 192)\n",
        "\n",
        "  def test_put(self):\n",
        "     self.assertEqual(self.k2, False)"
      ],
      "metadata": {
        "id": "yhO8k8V5IGC5"
      },
      "execution_count": 63,
      "outputs": []
    },
    {
      "cell_type": "code",
      "source": [
        "unittest.main(argv=[''], verbosity=2, exit=False)"
      ],
      "metadata": {
        "colab": {
          "base_uri": "https://localhost:8080/"
        },
        "id": "0h9cCFweJpaN",
        "outputId": "235fa6a0-5a54-4d13-b283-c7d5adba03af"
      },
      "execution_count": 64,
      "outputs": [
        {
          "output_type": "stream",
          "name": "stderr",
          "text": [
            "test_objem (__main__.TestCorobochka) ... ERROR\n",
            "test_put (__main__.TestCorobochka) ... ERROR\n",
            "\n",
            "======================================================================\n",
            "ERROR: test_objem (__main__.TestCorobochka)\n",
            "----------------------------------------------------------------------\n",
            "Traceback (most recent call last):\n",
            "  File \"<ipython-input-63-cb1122acec2b>\", line 4, in setUp\n",
            "    self.k2 = Korobochka(1, 1, 1).put(Korobochka(1, 4, 1))\n",
            "  File \"<ipython-input-61-204bd04d57ae>\", line 24, in put\n",
            "    raise BoxException(\"Oh, I guess there's no space left\")\n",
            "BoxException: Oh, I guess there's no space left\n",
            "\n",
            "======================================================================\n",
            "ERROR: test_put (__main__.TestCorobochka)\n",
            "----------------------------------------------------------------------\n",
            "Traceback (most recent call last):\n",
            "  File \"<ipython-input-63-cb1122acec2b>\", line 4, in setUp\n",
            "    self.k2 = Korobochka(1, 1, 1).put(Korobochka(1, 4, 1))\n",
            "  File \"<ipython-input-61-204bd04d57ae>\", line 24, in put\n",
            "    raise BoxException(\"Oh, I guess there's no space left\")\n",
            "BoxException: Oh, I guess there's no space left\n",
            "\n",
            "----------------------------------------------------------------------\n",
            "Ran 2 tests in 0.011s\n",
            "\n",
            "FAILED (errors=2)\n"
          ]
        },
        {
          "output_type": "execute_result",
          "data": {
            "text/plain": [
              "<unittest.main.TestProgram at 0x786dec29d1e0>"
            ]
          },
          "metadata": {},
          "execution_count": 64
        }
      ]
    },
    {
      "cell_type": "code",
      "source": [
        "a = Korobochka(30, 40, 50)\n",
        "a.put(Korobochka(3, 4, 5))"
      ],
      "metadata": {
        "colab": {
          "base_uri": "https://localhost:8080/"
        },
        "id": "6MMxYt-sOwB1",
        "outputId": "cc41b546-e3b0-4071-f05e-3f7616a26a21"
      },
      "execution_count": 26,
      "outputs": [
        {
          "output_type": "execute_result",
          "data": {
            "text/plain": [
              "True"
            ]
          },
          "metadata": {},
          "execution_count": 26
        }
      ]
    },
    {
      "cell_type": "code",
      "source": [
        "class SquaredBox(Korobochka):\n",
        "  def __init__(self, a):\n",
        "    Korobochka.__init__(self, a, a, a)\n"
      ],
      "metadata": {
        "id": "bv3rXqp-JRWm"
      },
      "execution_count": null,
      "outputs": []
    },
    {
      "cell_type": "code",
      "source": [
        "class Parcel(Korobochka):\n",
        "  def __init__(self, a, b, c, w, dir):\n",
        "    Korobochka.__init__(self, a, b, c)\n",
        "    self.__w = w\n",
        "    self.__dir = dir\n",
        "\n",
        "  def get_weight(self):\n",
        "    return self.__w\n",
        "\n",
        "  def set_weight(self, w):\n",
        "    self.__w = w\n",
        "\n",
        "  def destination(self):\n",
        "    return self.__dir"
      ],
      "metadata": {
        "id": "ozkuW1maKPzo"
      },
      "execution_count": null,
      "outputs": []
    },
    {
      "cell_type": "code",
      "source": [
        "d = Parcel(1, 2, 3, 50, 'Jopa-Zajopa')\n",
        "print(d.get_weight())\n",
        "d.set_weight(100)\n",
        "print(d.get_weight())"
      ],
      "metadata": {
        "colab": {
          "base_uri": "https://localhost:8080/"
        },
        "id": "8YujrApdKylm",
        "outputId": "3ab5f03b-3944-4705-d40f-51c1fe083564"
      },
      "execution_count": null,
      "outputs": [
        {
          "output_type": "stream",
          "name": "stdout",
          "text": [
            "50\n",
            "100\n"
          ]
        }
      ]
    },
    {
      "cell_type": "code",
      "source": [
        "c = SquaredBox(4)\n",
        "print(c.objem())"
      ],
      "metadata": {
        "colab": {
          "base_uri": "https://localhost:8080/"
        },
        "id": "V0wijMkHJ2vn",
        "outputId": "bb45ff99-10db-465a-d80a-6e7c5e83d3c2"
      },
      "execution_count": null,
      "outputs": [
        {
          "output_type": "stream",
          "name": "stdout",
          "text": [
            "64\n"
          ]
        }
      ]
    },
    {
      "cell_type": "code",
      "source": [
        "from copy import deepcopy\n",
        "\n",
        "a = Korobochka(1, 2, 3)\n",
        "b = deepcopy(a)\n",
        "a.enlarge(5)\n",
        "print(a.objem()/b.objem())"
      ],
      "metadata": {
        "colab": {
          "base_uri": "https://localhost:8080/"
        },
        "id": "cm3iOLTzCeSB",
        "outputId": "46a7c8d8-1311-4d20-aa12-299737214744"
      },
      "execution_count": null,
      "outputs": [
        {
          "output_type": "stream",
          "name": "stdout",
          "text": [
            "125.0\n"
          ]
        }
      ]
    }
  ]
}