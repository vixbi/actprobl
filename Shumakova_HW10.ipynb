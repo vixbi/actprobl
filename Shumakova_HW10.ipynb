{
  "cells": [
    {
      "cell_type": "markdown",
      "metadata": {
        "id": "qG-HBpFmhpbG"
      },
      "source": [
        "# **Задание 1**"
      ]
    },
    {
      "cell_type": "code",
      "execution_count": 1,
      "metadata": {
        "colab": {
          "base_uri": "https://localhost:8080/",
          "height": 1000
        },
        "collapsed": true,
        "id": "n3gioSICDB5o",
        "outputId": "33839345-e7e3-479f-802d-e9458502a107"
      },
      "outputs": [
        {
          "output_type": "stream",
          "name": "stdout",
          "text": [
            "Looking in indexes: https://download.pytorch.org/whl/cu124\n",
            "Collecting torch==2.5.1\n",
            "  Downloading https://download.pytorch.org/whl/cu124/torch-2.5.1%2Bcu124-cp311-cp311-linux_x86_64.whl (908.3 MB)\n",
            "\u001b[2K     \u001b[90m━━━━━━━━━━━━━━━━━━━━━━━━━━━━━━━━━━━━━━━━\u001b[0m \u001b[32m908.3/908.3 MB\u001b[0m \u001b[31m1.6 MB/s\u001b[0m eta \u001b[36m0:00:00\u001b[0m\n",
            "\u001b[?25hCollecting torchvision==0.20.1\n",
            "  Downloading https://download.pytorch.org/whl/cu124/torchvision-0.20.1%2Bcu124-cp311-cp311-linux_x86_64.whl (7.3 MB)\n",
            "\u001b[2K     \u001b[90m━━━━━━━━━━━━━━━━━━━━━━━━━━━━━━━━━━━━━━━━\u001b[0m \u001b[32m7.3/7.3 MB\u001b[0m \u001b[31m60.4 MB/s\u001b[0m eta \u001b[36m0:00:00\u001b[0m\n",
            "\u001b[?25hCollecting torchaudio==2.5.1\n",
            "  Downloading https://download.pytorch.org/whl/cu124/torchaudio-2.5.1%2Bcu124-cp311-cp311-linux_x86_64.whl (3.4 MB)\n",
            "\u001b[2K     \u001b[90m━━━━━━━━━━━━━━━━━━━━━━━━━━━━━━━━━━━━━━━━\u001b[0m \u001b[32m3.4/3.4 MB\u001b[0m \u001b[31m36.7 MB/s\u001b[0m eta \u001b[36m0:00:00\u001b[0m\n",
            "\u001b[?25hRequirement already satisfied: filelock in /usr/local/lib/python3.11/dist-packages (from torch==2.5.1) (3.18.0)\n",
            "Requirement already satisfied: typing-extensions>=4.8.0 in /usr/local/lib/python3.11/dist-packages (from torch==2.5.1) (4.13.0)\n",
            "Requirement already satisfied: networkx in /usr/local/lib/python3.11/dist-packages (from torch==2.5.1) (3.4.2)\n",
            "Requirement already satisfied: jinja2 in /usr/local/lib/python3.11/dist-packages (from torch==2.5.1) (3.1.6)\n",
            "Requirement already satisfied: fsspec in /usr/local/lib/python3.11/dist-packages (from torch==2.5.1) (2025.3.2)\n",
            "Collecting nvidia-cuda-nvrtc-cu12==12.4.127 (from torch==2.5.1)\n",
            "  Downloading https://download.pytorch.org/whl/cu124/nvidia_cuda_nvrtc_cu12-12.4.127-py3-none-manylinux2014_x86_64.whl (24.6 MB)\n",
            "\u001b[2K     \u001b[90m━━━━━━━━━━━━━━━━━━━━━━━━━━━━━━━━━━━━━━━━\u001b[0m \u001b[32m24.6/24.6 MB\u001b[0m \u001b[31m41.3 MB/s\u001b[0m eta \u001b[36m0:00:00\u001b[0m\n",
            "\u001b[?25hCollecting nvidia-cuda-runtime-cu12==12.4.127 (from torch==2.5.1)\n",
            "  Downloading https://download.pytorch.org/whl/cu124/nvidia_cuda_runtime_cu12-12.4.127-py3-none-manylinux2014_x86_64.whl (883 kB)\n",
            "\u001b[2K     \u001b[90m━━━━━━━━━━━━━━━━━━━━━━━━━━━━━━━━━━━━━━━━\u001b[0m \u001b[32m883.7/883.7 kB\u001b[0m \u001b[31m30.2 MB/s\u001b[0m eta \u001b[36m0:00:00\u001b[0m\n",
            "\u001b[?25hCollecting nvidia-cuda-cupti-cu12==12.4.127 (from torch==2.5.1)\n",
            "  Downloading https://download.pytorch.org/whl/cu124/nvidia_cuda_cupti_cu12-12.4.127-py3-none-manylinux2014_x86_64.whl (13.8 MB)\n",
            "\u001b[2K     \u001b[90m━━━━━━━━━━━━━━━━━━━━━━━━━━━━━━━━━━━━━━━━\u001b[0m \u001b[32m13.8/13.8 MB\u001b[0m \u001b[31m74.2 MB/s\u001b[0m eta \u001b[36m0:00:00\u001b[0m\n",
            "\u001b[?25hCollecting nvidia-cudnn-cu12==9.1.0.70 (from torch==2.5.1)\n",
            "  Downloading https://download.pytorch.org/whl/cu124/nvidia_cudnn_cu12-9.1.0.70-py3-none-manylinux2014_x86_64.whl (664.8 MB)\n",
            "\u001b[2K     \u001b[90m━━━━━━━━━━━━━━━━━━━━━━━━━━━━━━━━━━━━━━━━\u001b[0m \u001b[32m664.8/664.8 MB\u001b[0m \u001b[31m2.7 MB/s\u001b[0m eta \u001b[36m0:00:00\u001b[0m\n",
            "\u001b[?25hCollecting nvidia-cublas-cu12==12.4.5.8 (from torch==2.5.1)\n",
            "  Downloading https://download.pytorch.org/whl/cu124/nvidia_cublas_cu12-12.4.5.8-py3-none-manylinux2014_x86_64.whl (363.4 MB)\n",
            "\u001b[2K     \u001b[90m━━━━━━━━━━━━━━━━━━━━━━━━━━━━━━━━━━━━━━━━\u001b[0m \u001b[32m363.4/363.4 MB\u001b[0m \u001b[31m4.4 MB/s\u001b[0m eta \u001b[36m0:00:00\u001b[0m\n",
            "\u001b[?25hCollecting nvidia-cufft-cu12==11.2.1.3 (from torch==2.5.1)\n",
            "  Downloading https://download.pytorch.org/whl/cu124/nvidia_cufft_cu12-11.2.1.3-py3-none-manylinux2014_x86_64.whl (211.5 MB)\n",
            "\u001b[2K     \u001b[90m━━━━━━━━━━━━━━━━━━━━━━━━━━━━━━━━━━━━━━━━\u001b[0m \u001b[32m211.5/211.5 MB\u001b[0m \u001b[31m5.7 MB/s\u001b[0m eta \u001b[36m0:00:00\u001b[0m\n",
            "\u001b[?25hCollecting nvidia-curand-cu12==10.3.5.147 (from torch==2.5.1)\n",
            "  Downloading https://download.pytorch.org/whl/cu124/nvidia_curand_cu12-10.3.5.147-py3-none-manylinux2014_x86_64.whl (56.3 MB)\n",
            "\u001b[2K     \u001b[90m━━━━━━━━━━━━━━━━━━━━━━━━━━━━━━━━━━━━━━━━\u001b[0m \u001b[32m56.3/56.3 MB\u001b[0m \u001b[31m12.8 MB/s\u001b[0m eta \u001b[36m0:00:00\u001b[0m\n",
            "\u001b[?25hCollecting nvidia-cusolver-cu12==11.6.1.9 (from torch==2.5.1)\n",
            "  Downloading https://download.pytorch.org/whl/cu124/nvidia_cusolver_cu12-11.6.1.9-py3-none-manylinux2014_x86_64.whl (127.9 MB)\n",
            "\u001b[2K     \u001b[90m━━━━━━━━━━━━━━━━━━━━━━━━━━━━━━━━━━━━━━━━\u001b[0m \u001b[32m127.9/127.9 MB\u001b[0m \u001b[31m7.5 MB/s\u001b[0m eta \u001b[36m0:00:00\u001b[0m\n",
            "\u001b[?25hCollecting nvidia-cusparse-cu12==12.3.1.170 (from torch==2.5.1)\n",
            "  Downloading https://download.pytorch.org/whl/cu124/nvidia_cusparse_cu12-12.3.1.170-py3-none-manylinux2014_x86_64.whl (207.5 MB)\n",
            "\u001b[2K     \u001b[90m━━━━━━━━━━━━━━━━━━━━━━━━━━━━━━━━━━━━━━━━\u001b[0m \u001b[32m207.5/207.5 MB\u001b[0m \u001b[31m6.6 MB/s\u001b[0m eta \u001b[36m0:00:00\u001b[0m\n",
            "\u001b[?25hRequirement already satisfied: nvidia-nccl-cu12==2.21.5 in /usr/local/lib/python3.11/dist-packages (from torch==2.5.1) (2.21.5)\n",
            "Requirement already satisfied: nvidia-nvtx-cu12==12.4.127 in /usr/local/lib/python3.11/dist-packages (from torch==2.5.1) (12.4.127)\n",
            "Collecting nvidia-nvjitlink-cu12==12.4.127 (from torch==2.5.1)\n",
            "  Downloading https://download.pytorch.org/whl/cu124/nvidia_nvjitlink_cu12-12.4.127-py3-none-manylinux2014_x86_64.whl (21.1 MB)\n",
            "\u001b[2K     \u001b[90m━━━━━━━━━━━━━━━━━━━━━━━━━━━━━━━━━━━━━━━━\u001b[0m \u001b[32m21.1/21.1 MB\u001b[0m \u001b[31m94.1 MB/s\u001b[0m eta \u001b[36m0:00:00\u001b[0m\n",
            "\u001b[?25hCollecting triton==3.1.0 (from torch==2.5.1)\n",
            "  Downloading https://download.pytorch.org/whl/triton-3.1.0-cp311-cp311-manylinux_2_17_x86_64.manylinux2014_x86_64.whl (209.5 MB)\n",
            "\u001b[2K     \u001b[90m━━━━━━━━━━━━━━━━━━━━━━━━━━━━━━━━━━━━━━━━\u001b[0m \u001b[32m209.5/209.5 MB\u001b[0m \u001b[31m5.7 MB/s\u001b[0m eta \u001b[36m0:00:00\u001b[0m\n",
            "\u001b[?25hRequirement already satisfied: sympy==1.13.1 in /usr/local/lib/python3.11/dist-packages (from torch==2.5.1) (1.13.1)\n",
            "Requirement already satisfied: numpy in /usr/local/lib/python3.11/dist-packages (from torchvision==0.20.1) (2.0.2)\n",
            "Requirement already satisfied: pillow!=8.3.*,>=5.3.0 in /usr/local/lib/python3.11/dist-packages (from torchvision==0.20.1) (11.1.0)\n",
            "Requirement already satisfied: mpmath<1.4,>=1.1.0 in /usr/local/lib/python3.11/dist-packages (from sympy==1.13.1->torch==2.5.1) (1.3.0)\n",
            "Requirement already satisfied: MarkupSafe>=2.0 in /usr/local/lib/python3.11/dist-packages (from jinja2->torch==2.5.1) (3.0.2)\n",
            "Installing collected packages: triton, nvidia-nvjitlink-cu12, nvidia-curand-cu12, nvidia-cufft-cu12, nvidia-cuda-runtime-cu12, nvidia-cuda-nvrtc-cu12, nvidia-cuda-cupti-cu12, nvidia-cublas-cu12, nvidia-cusparse-cu12, nvidia-cudnn-cu12, nvidia-cusolver-cu12, torch, torchvision, torchaudio\n",
            "  Attempting uninstall: triton\n",
            "    Found existing installation: triton 3.2.0\n",
            "    Uninstalling triton-3.2.0:\n",
            "      Successfully uninstalled triton-3.2.0\n",
            "  Attempting uninstall: nvidia-nvjitlink-cu12\n",
            "    Found existing installation: nvidia-nvjitlink-cu12 12.5.82\n",
            "    Uninstalling nvidia-nvjitlink-cu12-12.5.82:\n",
            "      Successfully uninstalled nvidia-nvjitlink-cu12-12.5.82\n",
            "  Attempting uninstall: nvidia-curand-cu12\n",
            "    Found existing installation: nvidia-curand-cu12 10.3.6.82\n",
            "    Uninstalling nvidia-curand-cu12-10.3.6.82:\n",
            "      Successfully uninstalled nvidia-curand-cu12-10.3.6.82\n",
            "  Attempting uninstall: nvidia-cufft-cu12\n",
            "    Found existing installation: nvidia-cufft-cu12 11.2.3.61\n",
            "    Uninstalling nvidia-cufft-cu12-11.2.3.61:\n",
            "      Successfully uninstalled nvidia-cufft-cu12-11.2.3.61\n",
            "  Attempting uninstall: nvidia-cuda-runtime-cu12\n",
            "    Found existing installation: nvidia-cuda-runtime-cu12 12.5.82\n",
            "    Uninstalling nvidia-cuda-runtime-cu12-12.5.82:\n",
            "      Successfully uninstalled nvidia-cuda-runtime-cu12-12.5.82\n",
            "  Attempting uninstall: nvidia-cuda-nvrtc-cu12\n",
            "    Found existing installation: nvidia-cuda-nvrtc-cu12 12.5.82\n",
            "    Uninstalling nvidia-cuda-nvrtc-cu12-12.5.82:\n",
            "      Successfully uninstalled nvidia-cuda-nvrtc-cu12-12.5.82\n",
            "  Attempting uninstall: nvidia-cuda-cupti-cu12\n",
            "    Found existing installation: nvidia-cuda-cupti-cu12 12.5.82\n",
            "    Uninstalling nvidia-cuda-cupti-cu12-12.5.82:\n",
            "      Successfully uninstalled nvidia-cuda-cupti-cu12-12.5.82\n",
            "  Attempting uninstall: nvidia-cublas-cu12\n",
            "    Found existing installation: nvidia-cublas-cu12 12.5.3.2\n",
            "    Uninstalling nvidia-cublas-cu12-12.5.3.2:\n",
            "      Successfully uninstalled nvidia-cublas-cu12-12.5.3.2\n",
            "  Attempting uninstall: nvidia-cusparse-cu12\n",
            "    Found existing installation: nvidia-cusparse-cu12 12.5.1.3\n",
            "    Uninstalling nvidia-cusparse-cu12-12.5.1.3:\n",
            "      Successfully uninstalled nvidia-cusparse-cu12-12.5.1.3\n",
            "  Attempting uninstall: nvidia-cudnn-cu12\n",
            "    Found existing installation: nvidia-cudnn-cu12 9.3.0.75\n",
            "    Uninstalling nvidia-cudnn-cu12-9.3.0.75:\n",
            "      Successfully uninstalled nvidia-cudnn-cu12-9.3.0.75\n",
            "  Attempting uninstall: nvidia-cusolver-cu12\n",
            "    Found existing installation: nvidia-cusolver-cu12 11.6.3.83\n",
            "    Uninstalling nvidia-cusolver-cu12-11.6.3.83:\n",
            "      Successfully uninstalled nvidia-cusolver-cu12-11.6.3.83\n",
            "  Attempting uninstall: torch\n",
            "    Found existing installation: torch 2.6.0+cu124\n",
            "    Uninstalling torch-2.6.0+cu124:\n",
            "      Successfully uninstalled torch-2.6.0+cu124\n",
            "  Attempting uninstall: torchvision\n",
            "    Found existing installation: torchvision 0.21.0+cu124\n",
            "    Uninstalling torchvision-0.21.0+cu124:\n",
            "      Successfully uninstalled torchvision-0.21.0+cu124\n",
            "  Attempting uninstall: torchaudio\n",
            "    Found existing installation: torchaudio 2.6.0+cu124\n",
            "    Uninstalling torchaudio-2.6.0+cu124:\n",
            "      Successfully uninstalled torchaudio-2.6.0+cu124\n",
            "Successfully installed nvidia-cublas-cu12-12.4.5.8 nvidia-cuda-cupti-cu12-12.4.127 nvidia-cuda-nvrtc-cu12-12.4.127 nvidia-cuda-runtime-cu12-12.4.127 nvidia-cudnn-cu12-9.1.0.70 nvidia-cufft-cu12-11.2.1.3 nvidia-curand-cu12-10.3.5.147 nvidia-cusolver-cu12-11.6.1.9 nvidia-cusparse-cu12-12.3.1.170 nvidia-nvjitlink-cu12-12.4.127 torch-2.5.1+cu124 torchaudio-2.5.1+cu124 torchvision-0.20.1+cu124 triton-3.1.0\n",
            "Collecting torchtune\n",
            "  Downloading torchtune-0.6.0-py3-none-any.whl.metadata (24 kB)\n",
            "Collecting torchao\n",
            "  Downloading torchao-0.9.0-cp39-abi3-manylinux_2_17_x86_64.manylinux2014_x86_64.manylinux_2_28_x86_64.whl.metadata (14 kB)\n",
            "Collecting torchdata==0.11.0 (from torchtune)\n",
            "  Downloading torchdata-0.11.0-py3-none-any.whl.metadata (6.3 kB)\n",
            "Collecting datasets (from torchtune)\n",
            "  Downloading datasets-3.5.0-py3-none-any.whl.metadata (19 kB)\n",
            "Requirement already satisfied: huggingface_hub[hf_transfer] in /usr/local/lib/python3.11/dist-packages (from torchtune) (0.30.1)\n",
            "Requirement already satisfied: safetensors in /usr/local/lib/python3.11/dist-packages (from torchtune) (0.5.3)\n",
            "Requirement already satisfied: kagglehub in /usr/local/lib/python3.11/dist-packages (from torchtune) (0.3.11)\n",
            "Requirement already satisfied: sentencepiece in /usr/local/lib/python3.11/dist-packages (from torchtune) (0.2.0)\n",
            "Collecting tiktoken (from torchtune)\n",
            "  Downloading tiktoken-0.9.0-cp311-cp311-manylinux_2_17_x86_64.manylinux2014_x86_64.whl.metadata (6.7 kB)\n",
            "Collecting blobfile>=2 (from torchtune)\n",
            "  Downloading blobfile-3.0.0-py3-none-any.whl.metadata (15 kB)\n",
            "Requirement already satisfied: tokenizers in /usr/local/lib/python3.11/dist-packages (from torchtune) (0.21.1)\n",
            "Requirement already satisfied: numpy in /usr/local/lib/python3.11/dist-packages (from torchtune) (2.0.2)\n",
            "Requirement already satisfied: tqdm in /usr/local/lib/python3.11/dist-packages (from torchtune) (4.67.1)\n",
            "Collecting omegaconf (from torchtune)\n",
            "  Downloading omegaconf-2.3.0-py3-none-any.whl.metadata (3.9 kB)\n",
            "Requirement already satisfied: psutil in /usr/local/lib/python3.11/dist-packages (from torchtune) (5.9.5)\n",
            "Requirement already satisfied: Pillow>=9.4.0 in /usr/local/lib/python3.11/dist-packages (from torchtune) (11.1.0)\n",
            "Requirement already satisfied: urllib3>=1.25 in /usr/local/lib/python3.11/dist-packages (from torchdata==0.11.0->torchtune) (2.3.0)\n",
            "Requirement already satisfied: requests in /usr/local/lib/python3.11/dist-packages (from torchdata==0.11.0->torchtune) (2.32.3)\n",
            "Requirement already satisfied: torch>=2 in /usr/local/lib/python3.11/dist-packages (from torchdata==0.11.0->torchtune) (2.5.1+cu124)\n",
            "Collecting pycryptodomex>=3.8 (from blobfile>=2->torchtune)\n",
            "  Downloading pycryptodomex-3.22.0-cp37-abi3-manylinux_2_17_x86_64.manylinux2014_x86_64.whl.metadata (3.4 kB)\n",
            "Requirement already satisfied: lxml>=4.9 in /usr/local/lib/python3.11/dist-packages (from blobfile>=2->torchtune) (5.3.1)\n",
            "Requirement already satisfied: filelock>=3.0 in /usr/local/lib/python3.11/dist-packages (from blobfile>=2->torchtune) (3.18.0)\n",
            "Requirement already satisfied: pyarrow>=15.0.0 in /usr/local/lib/python3.11/dist-packages (from datasets->torchtune) (18.1.0)\n",
            "Collecting dill<0.3.9,>=0.3.0 (from datasets->torchtune)\n",
            "  Downloading dill-0.3.8-py3-none-any.whl.metadata (10 kB)\n",
            "Requirement already satisfied: pandas in /usr/local/lib/python3.11/dist-packages (from datasets->torchtune) (2.2.2)\n",
            "Collecting xxhash (from datasets->torchtune)\n",
            "  Downloading xxhash-3.5.0-cp311-cp311-manylinux_2_17_x86_64.manylinux2014_x86_64.whl.metadata (12 kB)\n",
            "Collecting multiprocess<0.70.17 (from datasets->torchtune)\n",
            "  Downloading multiprocess-0.70.16-py311-none-any.whl.metadata (7.2 kB)\n",
            "Collecting fsspec<=2024.12.0,>=2023.1.0 (from fsspec[http]<=2024.12.0,>=2023.1.0->datasets->torchtune)\n",
            "  Downloading fsspec-2024.12.0-py3-none-any.whl.metadata (11 kB)\n",
            "Requirement already satisfied: aiohttp in /usr/local/lib/python3.11/dist-packages (from datasets->torchtune) (3.11.15)\n",
            "Requirement already satisfied: packaging in /usr/local/lib/python3.11/dist-packages (from datasets->torchtune) (24.2)\n",
            "Requirement already satisfied: pyyaml>=5.1 in /usr/local/lib/python3.11/dist-packages (from datasets->torchtune) (6.0.2)\n",
            "Requirement already satisfied: typing-extensions>=3.7.4.3 in /usr/local/lib/python3.11/dist-packages (from huggingface_hub[hf_transfer]->torchtune) (4.13.0)\n",
            "Collecting hf-transfer>=0.1.4 (from huggingface_hub[hf_transfer]->torchtune)\n",
            "  Downloading hf_transfer-0.1.9-cp38-abi3-manylinux_2_17_x86_64.manylinux2014_x86_64.whl.metadata (1.7 kB)\n",
            "Collecting antlr4-python3-runtime==4.9.* (from omegaconf->torchtune)\n",
            "  Downloading antlr4-python3-runtime-4.9.3.tar.gz (117 kB)\n",
            "\u001b[2K     \u001b[90m━━━━━━━━━━━━━━━━━━━━━━━━━━━━━━━━━━━━━━━━\u001b[0m \u001b[32m117.0/117.0 kB\u001b[0m \u001b[31m6.4 MB/s\u001b[0m eta \u001b[36m0:00:00\u001b[0m\n",
            "\u001b[?25h  Preparing metadata (setup.py) ... \u001b[?25l\u001b[?25hdone\n",
            "Requirement already satisfied: regex>=2022.1.18 in /usr/local/lib/python3.11/dist-packages (from tiktoken->torchtune) (2024.11.6)\n",
            "Requirement already satisfied: aiohappyeyeballs>=2.3.0 in /usr/local/lib/python3.11/dist-packages (from aiohttp->datasets->torchtune) (2.6.1)\n",
            "Requirement already satisfied: aiosignal>=1.1.2 in /usr/local/lib/python3.11/dist-packages (from aiohttp->datasets->torchtune) (1.3.2)\n",
            "Requirement already satisfied: attrs>=17.3.0 in /usr/local/lib/python3.11/dist-packages (from aiohttp->datasets->torchtune) (25.3.0)\n",
            "Requirement already satisfied: frozenlist>=1.1.1 in /usr/local/lib/python3.11/dist-packages (from aiohttp->datasets->torchtune) (1.5.0)\n",
            "Requirement already satisfied: multidict<7.0,>=4.5 in /usr/local/lib/python3.11/dist-packages (from aiohttp->datasets->torchtune) (6.3.1)\n",
            "Requirement already satisfied: propcache>=0.2.0 in /usr/local/lib/python3.11/dist-packages (from aiohttp->datasets->torchtune) (0.3.1)\n",
            "Requirement already satisfied: yarl<2.0,>=1.17.0 in /usr/local/lib/python3.11/dist-packages (from aiohttp->datasets->torchtune) (1.18.3)\n",
            "Requirement already satisfied: charset-normalizer<4,>=2 in /usr/local/lib/python3.11/dist-packages (from requests->torchdata==0.11.0->torchtune) (3.4.1)\n",
            "Requirement already satisfied: idna<4,>=2.5 in /usr/local/lib/python3.11/dist-packages (from requests->torchdata==0.11.0->torchtune) (3.10)\n",
            "Requirement already satisfied: certifi>=2017.4.17 in /usr/local/lib/python3.11/dist-packages (from requests->torchdata==0.11.0->torchtune) (2025.1.31)\n",
            "Requirement already satisfied: networkx in /usr/local/lib/python3.11/dist-packages (from torch>=2->torchdata==0.11.0->torchtune) (3.4.2)\n",
            "Requirement already satisfied: jinja2 in /usr/local/lib/python3.11/dist-packages (from torch>=2->torchdata==0.11.0->torchtune) (3.1.6)\n",
            "Requirement already satisfied: nvidia-cuda-nvrtc-cu12==12.4.127 in /usr/local/lib/python3.11/dist-packages (from torch>=2->torchdata==0.11.0->torchtune) (12.4.127)\n",
            "Requirement already satisfied: nvidia-cuda-runtime-cu12==12.4.127 in /usr/local/lib/python3.11/dist-packages (from torch>=2->torchdata==0.11.0->torchtune) (12.4.127)\n",
            "Requirement already satisfied: nvidia-cuda-cupti-cu12==12.4.127 in /usr/local/lib/python3.11/dist-packages (from torch>=2->torchdata==0.11.0->torchtune) (12.4.127)\n",
            "Requirement already satisfied: nvidia-cudnn-cu12==9.1.0.70 in /usr/local/lib/python3.11/dist-packages (from torch>=2->torchdata==0.11.0->torchtune) (9.1.0.70)\n",
            "Requirement already satisfied: nvidia-cublas-cu12==12.4.5.8 in /usr/local/lib/python3.11/dist-packages (from torch>=2->torchdata==0.11.0->torchtune) (12.4.5.8)\n",
            "Requirement already satisfied: nvidia-cufft-cu12==11.2.1.3 in /usr/local/lib/python3.11/dist-packages (from torch>=2->torchdata==0.11.0->torchtune) (11.2.1.3)\n",
            "Requirement already satisfied: nvidia-curand-cu12==10.3.5.147 in /usr/local/lib/python3.11/dist-packages (from torch>=2->torchdata==0.11.0->torchtune) (10.3.5.147)\n",
            "Requirement already satisfied: nvidia-cusolver-cu12==11.6.1.9 in /usr/local/lib/python3.11/dist-packages (from torch>=2->torchdata==0.11.0->torchtune) (11.6.1.9)\n",
            "Requirement already satisfied: nvidia-cusparse-cu12==12.3.1.170 in /usr/local/lib/python3.11/dist-packages (from torch>=2->torchdata==0.11.0->torchtune) (12.3.1.170)\n",
            "Requirement already satisfied: nvidia-nccl-cu12==2.21.5 in /usr/local/lib/python3.11/dist-packages (from torch>=2->torchdata==0.11.0->torchtune) (2.21.5)\n",
            "Requirement already satisfied: nvidia-nvtx-cu12==12.4.127 in /usr/local/lib/python3.11/dist-packages (from torch>=2->torchdata==0.11.0->torchtune) (12.4.127)\n",
            "Requirement already satisfied: nvidia-nvjitlink-cu12==12.4.127 in /usr/local/lib/python3.11/dist-packages (from torch>=2->torchdata==0.11.0->torchtune) (12.4.127)\n",
            "Requirement already satisfied: triton==3.1.0 in /usr/local/lib/python3.11/dist-packages (from torch>=2->torchdata==0.11.0->torchtune) (3.1.0)\n",
            "Requirement already satisfied: sympy==1.13.1 in /usr/local/lib/python3.11/dist-packages (from torch>=2->torchdata==0.11.0->torchtune) (1.13.1)\n",
            "Requirement already satisfied: mpmath<1.4,>=1.1.0 in /usr/local/lib/python3.11/dist-packages (from sympy==1.13.1->torch>=2->torchdata==0.11.0->torchtune) (1.3.0)\n",
            "Requirement already satisfied: python-dateutil>=2.8.2 in /usr/local/lib/python3.11/dist-packages (from pandas->datasets->torchtune) (2.8.2)\n",
            "Requirement already satisfied: pytz>=2020.1 in /usr/local/lib/python3.11/dist-packages (from pandas->datasets->torchtune) (2025.2)\n",
            "Requirement already satisfied: tzdata>=2022.7 in /usr/local/lib/python3.11/dist-packages (from pandas->datasets->torchtune) (2025.2)\n",
            "Requirement already satisfied: six>=1.5 in /usr/local/lib/python3.11/dist-packages (from python-dateutil>=2.8.2->pandas->datasets->torchtune) (1.17.0)\n",
            "Requirement already satisfied: MarkupSafe>=2.0 in /usr/local/lib/python3.11/dist-packages (from jinja2->torch>=2->torchdata==0.11.0->torchtune) (3.0.2)\n",
            "Downloading torchtune-0.6.0-py3-none-any.whl (910 kB)\n",
            "\u001b[2K   \u001b[90m━━━━━━━━━━━━━━━━━━━━━━━━━━━━━━━━━━━━━━━━\u001b[0m \u001b[32m910.7/910.7 kB\u001b[0m \u001b[31m33.3 MB/s\u001b[0m eta \u001b[36m0:00:00\u001b[0m\n",
            "\u001b[?25hDownloading torchdata-0.11.0-py3-none-any.whl (61 kB)\n",
            "\u001b[2K   \u001b[90m━━━━━━━━━━━━━━━━━━━━━━━━━━━━━━━━━━━━━━━━\u001b[0m \u001b[32m62.0/62.0 kB\u001b[0m \u001b[31m5.7 MB/s\u001b[0m eta \u001b[36m0:00:00\u001b[0m\n",
            "\u001b[?25hDownloading torchao-0.9.0-cp39-abi3-manylinux_2_17_x86_64.manylinux2014_x86_64.manylinux_2_28_x86_64.whl (5.7 MB)\n",
            "\u001b[2K   \u001b[90m━━━━━━━━━━━━━━━━━━━━━━━━━━━━━━━━━━━━━━━━\u001b[0m \u001b[32m5.7/5.7 MB\u001b[0m \u001b[31m110.4 MB/s\u001b[0m eta \u001b[36m0:00:00\u001b[0m\n",
            "\u001b[?25hDownloading blobfile-3.0.0-py3-none-any.whl (75 kB)\n",
            "\u001b[2K   \u001b[90m━━━━━━━━━━━━━━━━━━━━━━━━━━━━━━━━━━━━━━━━\u001b[0m \u001b[32m75.4/75.4 kB\u001b[0m \u001b[31m7.0 MB/s\u001b[0m eta \u001b[36m0:00:00\u001b[0m\n",
            "\u001b[?25hDownloading datasets-3.5.0-py3-none-any.whl (491 kB)\n",
            "\u001b[2K   \u001b[90m━━━━━━━━━━━━━━━━━━━━━━━━━━━━━━━━━━━━━━━━\u001b[0m \u001b[32m491.2/491.2 kB\u001b[0m \u001b[31m38.7 MB/s\u001b[0m eta \u001b[36m0:00:00\u001b[0m\n",
            "\u001b[?25hDownloading omegaconf-2.3.0-py3-none-any.whl (79 kB)\n",
            "\u001b[2K   \u001b[90m━━━━━━━━━━━━━━━━━━━━━━━━━━━━━━━━━━━━━━━━\u001b[0m \u001b[32m79.5/79.5 kB\u001b[0m \u001b[31m8.2 MB/s\u001b[0m eta \u001b[36m0:00:00\u001b[0m\n",
            "\u001b[?25hDownloading tiktoken-0.9.0-cp311-cp311-manylinux_2_17_x86_64.manylinux2014_x86_64.whl (1.2 MB)\n",
            "\u001b[2K   \u001b[90m━━━━━━━━━━━━━━━━━━━━━━━━━━━━━━━━━━━━━━━━\u001b[0m \u001b[32m1.2/1.2 MB\u001b[0m \u001b[31m58.9 MB/s\u001b[0m eta \u001b[36m0:00:00\u001b[0m\n",
            "\u001b[?25hDownloading dill-0.3.8-py3-none-any.whl (116 kB)\n",
            "\u001b[2K   \u001b[90m━━━━━━━━━━━━━━━━━━━━━━━━━━━━━━━━━━━━━━━━\u001b[0m \u001b[32m116.3/116.3 kB\u001b[0m \u001b[31m11.5 MB/s\u001b[0m eta \u001b[36m0:00:00\u001b[0m\n",
            "\u001b[?25hDownloading fsspec-2024.12.0-py3-none-any.whl (183 kB)\n",
            "\u001b[2K   \u001b[90m━━━━━━━━━━━━━━━━━━━━━━━━━━━━━━━━━━━━━━━━\u001b[0m \u001b[32m183.9/183.9 kB\u001b[0m \u001b[31m17.3 MB/s\u001b[0m eta \u001b[36m0:00:00\u001b[0m\n",
            "\u001b[?25hDownloading hf_transfer-0.1.9-cp38-abi3-manylinux_2_17_x86_64.manylinux2014_x86_64.whl (3.6 MB)\n",
            "\u001b[2K   \u001b[90m━━━━━━━━━━━━━━━━━━━━━━━━━━━━━━━━━━━━━━━━\u001b[0m \u001b[32m3.6/3.6 MB\u001b[0m \u001b[31m102.2 MB/s\u001b[0m eta \u001b[36m0:00:00\u001b[0m\n",
            "\u001b[?25hDownloading multiprocess-0.70.16-py311-none-any.whl (143 kB)\n",
            "\u001b[2K   \u001b[90m━━━━━━━━━━━━━━━━━━━━━━━━━━━━━━━━━━━━━━━━\u001b[0m \u001b[32m143.5/143.5 kB\u001b[0m \u001b[31m14.1 MB/s\u001b[0m eta \u001b[36m0:00:00\u001b[0m\n",
            "\u001b[?25hDownloading pycryptodomex-3.22.0-cp37-abi3-manylinux_2_17_x86_64.manylinux2014_x86_64.whl (2.3 MB)\n",
            "\u001b[2K   \u001b[90m━━━━━━━━━━━━━━━━━━━━━━━━━━━━━━━━━━━━━━━━\u001b[0m \u001b[32m2.3/2.3 MB\u001b[0m \u001b[31m84.9 MB/s\u001b[0m eta \u001b[36m0:00:00\u001b[0m\n",
            "\u001b[?25hDownloading xxhash-3.5.0-cp311-cp311-manylinux_2_17_x86_64.manylinux2014_x86_64.whl (194 kB)\n",
            "\u001b[2K   \u001b[90m━━━━━━━━━━━━━━━━━━━━━━━━━━━━━━━━━━━━━━━━\u001b[0m \u001b[32m194.8/194.8 kB\u001b[0m \u001b[31m19.0 MB/s\u001b[0m eta \u001b[36m0:00:00\u001b[0m\n",
            "\u001b[?25hBuilding wheels for collected packages: antlr4-python3-runtime\n",
            "  Building wheel for antlr4-python3-runtime (setup.py) ... \u001b[?25l\u001b[?25hdone\n",
            "  Created wheel for antlr4-python3-runtime: filename=antlr4_python3_runtime-4.9.3-py3-none-any.whl size=144554 sha256=bddbd75e8f7dc56f2a9546ca8f804cd963fdf59672f110185678b6993968de1e\n",
            "  Stored in directory: /root/.cache/pip/wheels/1a/97/32/461f837398029ad76911109f07047fde1d7b661a147c7c56d1\n",
            "Successfully built antlr4-python3-runtime\n",
            "Installing collected packages: torchao, antlr4-python3-runtime, xxhash, pycryptodomex, omegaconf, hf-transfer, fsspec, dill, tiktoken, multiprocess, blobfile, torchdata, datasets, torchtune\n",
            "  Attempting uninstall: fsspec\n",
            "    Found existing installation: fsspec 2025.3.2\n",
            "    Uninstalling fsspec-2025.3.2:\n",
            "      Successfully uninstalled fsspec-2025.3.2\n",
            "\u001b[31mERROR: pip's dependency resolver does not currently take into account all the packages that are installed. This behaviour is the source of the following dependency conflicts.\n",
            "gcsfs 2025.3.2 requires fsspec==2025.3.2, but you have fsspec 2024.12.0 which is incompatible.\u001b[0m\u001b[31m\n",
            "\u001b[0mSuccessfully installed antlr4-python3-runtime-4.9.3 blobfile-3.0.0 datasets-3.5.0 dill-0.3.8 fsspec-2024.12.0 hf-transfer-0.1.9 multiprocess-0.70.16 omegaconf-2.3.0 pycryptodomex-3.22.0 tiktoken-0.9.0 torchao-0.9.0 torchdata-0.11.0 torchtune-0.6.0 xxhash-3.5.0\n"
          ]
        },
        {
          "output_type": "display_data",
          "data": {
            "application/vnd.colab-display-data+json": {
              "pip_warning": {
                "packages": [
                  "pydevd_plugins"
                ]
              },
              "id": "adbbc035f7004b318715d1437819f012"
            }
          },
          "metadata": {}
        }
      ],
      "source": [
        "!pip install torch==2.5.1 torchvision==0.20.1 torchaudio==2.5.1 --index-url https://download.pytorch.org/whl/cu124\n",
        "!pip install torchtune torchao"
      ]
    },
    {
      "cell_type": "code",
      "execution_count": 48,
      "metadata": {
        "id": "TXkM5hbnDgs4",
        "colab": {
          "base_uri": "https://localhost:8080/"
        },
        "outputId": "157762eb-ed96-4d7f-d0d7-db1f1ba3f24f"
      },
      "outputs": [
        {
          "output_type": "stream",
          "name": "stderr",
          "text": [
            "[nltk_data] Downloading package punkt_tab to /root/nltk_data...\n",
            "[nltk_data]   Unzipping tokenizers/punkt_tab.zip.\n"
          ]
        }
      ],
      "source": [
        "import torch\n",
        "import torch.nn as nn\n",
        "import torch.nn.functional as F\n",
        "import torch.optim as optim\n",
        "import torch.utils.data\n",
        "\n",
        "from tokenizers import Tokenizer\n",
        "from tokenizers.models import BPE\n",
        "from tokenizers.pre_tokenizers import Whitespace\n",
        "from tokenizers.trainers import BpeTrainer\n",
        "from tokenizers import decoders\n",
        "\n",
        "import os\n",
        "import numpy as np\n",
        "from sklearn.model_selection import StratifiedShuffleSplit, train_test_split\n",
        "from collections import Counter\n",
        "\n",
        "from torchtune.modules import RotaryPositionalEmbeddings\n",
        "from torch.nn import Transformer\n",
        "import matplotlib.pyplot as plt\n",
        "\n",
        "import nltk\n",
        "nltk.download('punkt_tab')\n",
        "%matplotlib inline\n",
        "\n",
        "import wandb"
      ]
    },
    {
      "cell_type": "markdown",
      "metadata": {
        "id": "N7F_cvWMiCVy"
      },
      "source": [
        "## Подготовка данных для обучения"
      ]
    },
    {
      "cell_type": "code",
      "execution_count": 3,
      "metadata": {
        "colab": {
          "base_uri": "https://localhost:8080/"
        },
        "collapsed": true,
        "id": "x3nIFGzZDi_F",
        "outputId": "9a84b78b-2e89-4715-e9c0-252282438da6"
      },
      "outputs": [
        {
          "output_type": "stream",
          "name": "stdout",
          "text": [
            "--2025-04-07 15:46:05--  https://data.statmt.org/opus-100-corpus/v1.0/supervised/en-ru/opus.en-ru-train.ru\n",
            "Resolving data.statmt.org (data.statmt.org)... 129.215.32.28\n",
            "Connecting to data.statmt.org (data.statmt.org)|129.215.32.28|:443... connected.\n",
            "HTTP request sent, awaiting response... 200 OK\n",
            "Length: 121340806 (116M)\n",
            "Saving to: ‘opus.en-ru-train.ru’\n",
            "\n",
            "opus.en-ru-train.ru 100%[===================>] 115.72M  23.6MB/s    in 6.2s    \n",
            "\n",
            "2025-04-07 15:46:12 (18.8 MB/s) - ‘opus.en-ru-train.ru’ saved [121340806/121340806]\n",
            "\n",
            "--2025-04-07 15:46:12--  https://data.statmt.org/opus-100-corpus/v1.0/supervised/en-ru/opus.en-ru-train.en\n",
            "Resolving data.statmt.org (data.statmt.org)... 129.215.32.28\n",
            "Connecting to data.statmt.org (data.statmt.org)|129.215.32.28|:443... connected.\n",
            "HTTP request sent, awaiting response... 200 OK\n",
            "Length: 67760131 (65M)\n",
            "Saving to: ‘opus.en-ru-train.en’\n",
            "\n",
            "opus.en-ru-train.en 100%[===================>]  64.62M  20.2MB/s    in 3.8s    \n",
            "\n",
            "2025-04-07 15:46:16 (17.0 MB/s) - ‘opus.en-ru-train.en’ saved [67760131/67760131]\n",
            "\n",
            "--2025-04-07 15:46:16--  https://data.statmt.org/opus-100-corpus/v1.0/supervised/en-ru/opus.en-ru-test.ru\n",
            "Resolving data.statmt.org (data.statmt.org)... 129.215.32.28\n",
            "Connecting to data.statmt.org (data.statmt.org)|129.215.32.28|:443... connected.\n",
            "HTTP request sent, awaiting response... 200 OK\n",
            "Length: 305669 (299K)\n",
            "Saving to: ‘opus.en-ru-test.ru’\n",
            "\n",
            "opus.en-ru-test.ru  100%[===================>] 298.50K   508KB/s    in 0.6s    \n",
            "\n",
            "2025-04-07 15:46:18 (508 KB/s) - ‘opus.en-ru-test.ru’ saved [305669/305669]\n",
            "\n",
            "--2025-04-07 15:46:18--  https://data.statmt.org/opus-100-corpus/v1.0/supervised/en-ru/opus.en-ru-test.en\n",
            "Resolving data.statmt.org (data.statmt.org)... 129.215.32.28\n",
            "Connecting to data.statmt.org (data.statmt.org)|129.215.32.28|:443... connected.\n",
            "HTTP request sent, awaiting response... 200 OK\n",
            "Length: 173307 (169K)\n",
            "Saving to: ‘opus.en-ru-test.en’\n",
            "\n",
            "opus.en-ru-test.en  100%[===================>] 169.25K   354KB/s    in 0.5s    \n",
            "\n",
            "2025-04-07 15:46:19 (354 KB/s) - ‘opus.en-ru-test.en’ saved [173307/173307]\n",
            "\n"
          ]
        }
      ],
      "source": [
        "!wget https://data.statmt.org/opus-100-corpus/v1.0/supervised/en-ru/opus.en-ru-train.ru\n",
        "!wget https://data.statmt.org/opus-100-corpus/v1.0/supervised/en-ru/opus.en-ru-train.en\n",
        "!wget https://data.statmt.org/opus-100-corpus/v1.0/supervised/en-ru/opus.en-ru-test.ru\n",
        "!wget https://data.statmt.org/opus-100-corpus/v1.0/supervised/en-ru/opus.en-ru-test.en"
      ]
    },
    {
      "cell_type": "code",
      "execution_count": 4,
      "metadata": {
        "id": "CQ_Xv6LgiMN7"
      },
      "outputs": [],
      "source": [
        "text = open('opus.en-ru-train.ru').read().replace('\\xa0', ' ')\n",
        "f = open('opus.en-ru-train.ru', 'w')\n",
        "f.write(text)\n",
        "f.close()\n",
        "en_sents = open('opus.en-ru-train.en').read().splitlines()\n",
        "ru_sents = open('opus.en-ru-train.ru').read().splitlines()"
      ]
    },
    {
      "cell_type": "code",
      "execution_count": 5,
      "metadata": {
        "id": "ybwBlFpciaix"
      },
      "outputs": [],
      "source": [
        "# токенизатор для английского языка\n",
        "tokenizer_en = Tokenizer(BPE())\n",
        "tokenizer_en.pre_tokenizer = Whitespace()\n",
        "\n",
        "trainer_en = BpeTrainer(special_tokens=[\"[PAD]\", \"[BOS]\", \"[EOS]\"], end_of_word_suffix='</w>')\n",
        "tokenizer_en.train(files=[\"opus.en-ru-train.en\"], trainer=trainer_en)\n",
        "\n",
        "\n",
        "# токенизатор для русского языка\n",
        "tokenizer_ru = Tokenizer(BPE())\n",
        "tokenizer_ru.pre_tokenizer = Whitespace()\n",
        "\n",
        "trainer_ru = BpeTrainer(special_tokens=[\"[PAD]\"], end_of_word_suffix='</w>')\n",
        "tokenizer_ru.train(files=[\"opus.en-ru-train.ru\"], trainer=trainer_ru)\n",
        "\n",
        "\n",
        "\n",
        "tokenizer_en.decoder = decoders.BPEDecoder()\n",
        "tokenizer_ru.decoder = decoders.BPEDecoder()"
      ]
    },
    {
      "cell_type": "code",
      "execution_count": 8,
      "metadata": {
        "id": "JkHydh6JikvS"
      },
      "outputs": [],
      "source": [
        "# tokenizer_en.save('tokenizer_en')\n",
        "# tokenizer_ru.save('tokenizer_ru')"
      ]
    },
    {
      "cell_type": "code",
      "execution_count": 9,
      "metadata": {
        "id": "xSwCPAe7isRz"
      },
      "outputs": [],
      "source": [
        "tokenizer_en = Tokenizer.from_file(\"tokenizer_en\")\n",
        "tokenizer_ru = Tokenizer.from_file(\"tokenizer_ru\")"
      ]
    },
    {
      "cell_type": "code",
      "execution_count": 10,
      "metadata": {
        "id": "T4yP8c7Iw3Nw"
      },
      "outputs": [],
      "source": [
        "def encode(text, tokenizer, max_len, encoder=False):\n",
        "    if encoder:\n",
        "        return tokenizer.encode(text).ids[:max_len]\n",
        "    else:\n",
        "        return [tokenizer.token_to_id('[BOS]')] + tokenizer.encode(text).ids[:max_len] + [tokenizer.token_to_id('[EOS]')]"
      ]
    },
    {
      "cell_type": "code",
      "execution_count": 11,
      "metadata": {
        "colab": {
          "base_uri": "https://localhost:8080/"
        },
        "id": "rjBmnCrowvXP",
        "outputId": "71906e77-77e5-4172-c19e-96e605a41664"
      },
      "outputs": [
        {
          "output_type": "execute_result",
          "data": {
            "text/plain": [
              "0"
            ]
          },
          "metadata": {},
          "execution_count": 11
        }
      ],
      "source": [
        "PAD_IDX = tokenizer_ru.token_to_id('[PAD]')\n",
        "PAD_IDX"
      ]
    },
    {
      "cell_type": "code",
      "execution_count": 12,
      "metadata": {
        "id": "lxZGKFG6w0fm"
      },
      "outputs": [],
      "source": [
        "max_len_ru, max_len_en = 47, 48"
      ]
    },
    {
      "cell_type": "code",
      "execution_count": 13,
      "metadata": {
        "id": "dvVtCg-Mw6kQ"
      },
      "outputs": [],
      "source": [
        "X_en = [encode(t, tokenizer_en, max_len_en) for t in en_sents]\n",
        "X_ru = [encode(t, tokenizer_ru, max_len_ru, encoder=True) for t in ru_sents]"
      ]
    },
    {
      "cell_type": "code",
      "execution_count": 14,
      "metadata": {
        "id": "kFrI_L_U06uI"
      },
      "outputs": [],
      "source": [
        "class Dataset(torch.utils.data.Dataset):\n",
        "\n",
        "    def __init__(self, texts_ru, texts_en):\n",
        "        self.texts_ru = [torch.LongTensor(sent) for sent in texts_ru]\n",
        "        self.texts_ru = torch.nn.utils.rnn.pad_sequence(self.texts_ru, batch_first=True, padding_value=PAD_IDX)\n",
        "\n",
        "        self.texts_en = [torch.LongTensor(sent) for sent in texts_en]\n",
        "        self.texts_en = torch.nn.utils.rnn.pad_sequence(self.texts_en, batch_first=True, padding_value=PAD_IDX)\n",
        "\n",
        "        self.length = len(texts_en)\n",
        "\n",
        "    def __len__(self):\n",
        "        return self.length\n",
        "\n",
        "    def __getitem__(self, index):\n",
        "\n",
        "        ids_ru = self.texts_ru[index]\n",
        "        ids_en = self.texts_en[index]\n",
        "\n",
        "        return ids_ru, ids_en"
      ]
    },
    {
      "cell_type": "code",
      "execution_count": 15,
      "metadata": {
        "id": "9ihhcJHTyOJL"
      },
      "outputs": [],
      "source": [
        "X_ru_train, X_ru_valid, X_en_train, X_en_valid = train_test_split(X_ru, X_en, test_size=0.05)"
      ]
    },
    {
      "cell_type": "markdown",
      "metadata": {
        "id": "vUiZoJ4MyQkB"
      },
      "source": [
        "## Обучение модели"
      ]
    },
    {
      "cell_type": "markdown",
      "metadata": {
        "id": "eyvHRaitzp9E"
      },
      "source": [
        "### Классы и функции для обучения"
      ]
    },
    {
      "cell_type": "code",
      "execution_count": 16,
      "metadata": {
        "id": "UxqmtoEDzoov"
      },
      "outputs": [],
      "source": [
        "# для encoder и decoder создается свой класс\n",
        "# это сделано для того чтобы можно было легко задать количество слоев как гиперпараметр\n",
        "\n",
        "\n",
        "class EncoderLayer(nn.Module):\n",
        "    def __init__(self, embed_dim, num_heads, ff_dim, dropout):\n",
        "        super().__init__()\n",
        "        self.self_attn = nn.MultiheadAttention(embed_dim, num_heads, dropout=dropout, batch_first=True)\n",
        "        self.norm1 = nn.LayerNorm(embed_dim)\n",
        "        self.norm2 = nn.LayerNorm(embed_dim)\n",
        "        self.ff = nn.Sequential(\n",
        "            nn.Linear(embed_dim, ff_dim),\n",
        "            nn.ReLU(),\n",
        "            nn.Linear(ff_dim, embed_dim),\n",
        "        )\n",
        "        self.dropout = nn.Dropout(dropout)\n",
        "\n",
        "    def forward(self, src, src_mask=None, src_key_padding_mask=None):\n",
        "        # здесь нормализация применяется после attention (как в оригинальной статье)\n",
        "        # сейчас чаще используют пре-нормализацию\n",
        "        src2, _ = self.self_attn(src, src, src, attn_mask=src_mask, key_padding_mask=src_key_padding_mask) # mha\n",
        "        src = self.norm1(src + self.dropout(src2)) # norm + residual connection\n",
        "        src2 = self.ff(src) # ffd\n",
        "        src = self.norm2(src + self.dropout(src2)) # norm + residual connection\n",
        "\n",
        "        return src\n",
        "\n",
        "\n",
        "class DecoderLayer(nn.Module):\n",
        "    def __init__(self, embed_dim, num_heads, ff_dim, dropout):\n",
        "        super().__init__()\n",
        "        self.self_attn = nn.MultiheadAttention(embed_dim, num_heads, dropout=dropout, batch_first=True)\n",
        "        self.cross_attn = nn.MultiheadAttention(embed_dim, num_heads, dropout=dropout, batch_first=True)\n",
        "\n",
        "        self.norm1 = nn.LayerNorm(embed_dim)\n",
        "        self.norm2 = nn.LayerNorm(embed_dim)\n",
        "        self.norm3 = nn.LayerNorm(embed_dim)\n",
        "\n",
        "        self.ff = nn.Sequential(\n",
        "            nn.Linear(embed_dim, ff_dim),\n",
        "            nn.ReLU(),\n",
        "            nn.Linear(ff_dim, embed_dim),\n",
        "        )\n",
        "        self.dropout = nn.Dropout(dropout)\n",
        "\n",
        "    def forward(self, tgt, memory, tgt_mask=None, tgt_key_padding_mask=None, memory_key_padding_mask=None):\n",
        "        tgt2, _ = self.self_attn(tgt, tgt, tgt, attn_mask=tgt_mask, key_padding_mask=tgt_key_padding_mask) # self mha\n",
        "        tgt = self.norm1(tgt + self.dropout(tgt2)) # norm + residual connection\n",
        "\n",
        "        tgt2, _ = self.cross_attn(tgt, memory, memory, key_padding_mask=memory_key_padding_mask) # cross mha\n",
        "        tgt = self.norm2(tgt + self.dropout(tgt2)) # norm + residual connection\n",
        "\n",
        "        tgt2 = self.ff(tgt) # ffd\n",
        "        tgt = self.norm3(tgt + self.dropout(tgt2))  # norm + residual connection\n",
        "\n",
        "        return tgt\n",
        "\n",
        "\n",
        "# главнный класс где все собирается вместе\n",
        "\n",
        "class EncoderDecoderTransformer(nn.Module):\n",
        "    def __init__(self, vocab_size_enc, vocab_size_dec, embed_dim, num_heads, ff_dim, num_layers, dropout=0.1):\n",
        "        super().__init__()\n",
        "        self.embed_dim = embed_dim\n",
        "        self.num_heads = num_heads\n",
        "\n",
        "        self.embedding_enc = nn.Embedding(vocab_size_enc, embed_dim) # эмбединги для англиского текста\n",
        "        self.embedding_dec = nn.Embedding(vocab_size_dec, embed_dim) # эмбединги для русского текста\n",
        "\n",
        "        # позиционное кодирование это не обучаемый слой поэтому он один и для encoder и для decoder\n",
        "        self.positional_encoding = RotaryPositionalEmbeddings(embed_dim // num_heads)\n",
        "\n",
        "        # инициализая n encoder слоев\n",
        "        self.encoder_layers = nn.ModuleList([\n",
        "            EncoderLayer(embed_dim, num_heads, ff_dim, dropout)\n",
        "            for _ in range(num_layers)\n",
        "        ])\n",
        "\n",
        "        # инициализая n decoder слоев\n",
        "        self.decoder_layers = nn.ModuleList([\n",
        "            DecoderLayer(embed_dim, num_heads, ff_dim, dropout)\n",
        "            for _ in range(num_layers)\n",
        "        ])\n",
        "\n",
        "        self.output_layer = nn.Linear(embed_dim, vocab_size_dec)\n",
        "\n",
        "    def forward(self, src, tgt, src_key_padding_mask=None, tgt_key_padding_mask=None):\n",
        "        src_embedded = self.embedding_enc(src) # эмбединг английского текста\n",
        "        B, S, E = src_embedded.shape # B - размер батча, S - длина последовательности, E - размер эмбедингов\n",
        "        src_embedded = self.positional_encoding(src_embedded.view(B, S, self.num_heads, E // self.num_heads)).view(B, S, E)\n",
        "\n",
        "        tgt_embedded = self.embedding_dec(tgt) # эмбединг русского текста\n",
        "        B, T, E = tgt_embedded.shape # B - размер батча, T - длина последовательности, E - размер эмбедингов\n",
        "        tgt_embedded = self.positional_encoding(tgt_embedded.view(B, T, self.num_heads, E // self.num_heads)).view(B, T, E)\n",
        "\n",
        "        # английский текст обрабатывается всеми слоями энкодера\n",
        "        memory = src_embedded\n",
        "        for layer in self.encoder_layers:\n",
        "            memory = layer(memory, src_key_padding_mask=src_key_padding_mask)\n",
        "\n",
        "        # создается треугольная маска для decoder\n",
        "        tgt_mask = (~torch.tril(torch.ones((T, T), dtype=torch.bool))).to(tgt.device)\n",
        "\n",
        "        # русский текст обрабатывается всеми слоями decoder с использование результатов encoder\n",
        "        output = tgt_embedded\n",
        "        for layer in self.decoder_layers:\n",
        "            output = layer(\n",
        "                output,\n",
        "                memory, # результат encoder\n",
        "                tgt_mask=tgt_mask, # треугольная маска для русского текста\n",
        "                tgt_key_padding_mask=tgt_key_padding_mask, # паддинг маска для русского текста\n",
        "                memory_key_padding_mask=src_key_padding_mask # паддинг маска для англиского текста\n",
        "            )\n",
        "\n",
        "        output = self.output_layer(output) # последний слой классификации\n",
        "        return output"
      ]
    },
    {
      "cell_type": "code",
      "execution_count": 17,
      "metadata": {
        "id": "OZegSS9CzzbW"
      },
      "outputs": [],
      "source": [
        "vocab_size_enc = tokenizer_ru.get_vocab_size()\n",
        "vocab_size_dec = tokenizer_en.get_vocab_size()\n",
        "\n",
        "embed_dim = 32 # еще называется D_MODEL\n",
        "num_heads = 4\n",
        "ff_dim = embed_dim*2 # еще называется D_FF\n",
        "num_layers = 2 # количество слоев\n",
        "batch_size = 200\n",
        "\n",
        "model = EncoderDecoderTransformer(vocab_size_enc,vocab_size_dec, embed_dim, num_heads, ff_dim, num_layers)"
      ]
    },
    {
      "cell_type": "code",
      "execution_count": 18,
      "metadata": {
        "id": "CpKNXmhG9eNI"
      },
      "outputs": [],
      "source": [
        "training_set = Dataset(X_ru_train, X_en_train)\n",
        "training_generator = torch.utils.data.DataLoader(training_set, batch_size=batch_size, shuffle=True, )\n",
        "\n",
        "valid_set = Dataset(X_ru_valid, X_en_valid)\n",
        "valid_generator = torch.utils.data.DataLoader(valid_set, batch_size=batch_size, shuffle=False)"
      ]
    },
    {
      "cell_type": "code",
      "execution_count": 19,
      "metadata": {
        "id": "9E-r7XT79NVg"
      },
      "outputs": [],
      "source": [
        "from time import time\n",
        "def train(model, iterator, optimizer, criterion, scheduler, run=None, print_every=100):\n",
        "\n",
        "    epoch_loss = []\n",
        "    ac = []\n",
        "\n",
        "    model.train()\n",
        "\n",
        "    for i, (texts_en, texts_ru) in enumerate(iterator):\n",
        "        texts_en = texts_en.to(DEVICE)\n",
        "        texts_ru = texts_ru.to(DEVICE)\n",
        "        texts_ru_input = texts_ru[:,:-1].to(DEVICE)\n",
        "        texts_ru_out = texts_ru[:, 1:].to(DEVICE)\n",
        "        src_padding_mask = (texts_en == PAD_IDX).to(DEVICE)\n",
        "        tgt_padding_mask = (texts_ru_input == PAD_IDX).to(DEVICE)\n",
        "\n",
        "\n",
        "        logits = model(texts_en, texts_ru_input, src_padding_mask, tgt_padding_mask)\n",
        "        optimizer.zero_grad()\n",
        "        B,S,C = logits.shape\n",
        "        loss = loss_fn(logits.reshape(B*S, C), texts_ru_out.reshape(B*S))\n",
        "        loss.backward()\n",
        "        optimizer.step()\n",
        "        scheduler.step()\n",
        "        epoch_loss.append(loss.item())\n",
        "\n",
        "        if not (i+1) % print_every:\n",
        "            print(f'Loss: {np.mean(epoch_loss)};')\n",
        "        if run is not None:\n",
        "            run.log({\"loss\": loss.item()})\n",
        "\n",
        "    return np.mean(epoch_loss)\n",
        "\n",
        "\n",
        "def evaluate(model, iterator, criterion, run=None):\n",
        "\n",
        "    epoch_loss = []\n",
        "    epoch_f1 = []\n",
        "\n",
        "    model.eval()\n",
        "    with torch.no_grad():\n",
        "        for i, (texts_en, texts_ru) in enumerate(iterator):\n",
        "            texts_en = texts_en.to(DEVICE)\n",
        "            texts_ru = texts_ru.to(DEVICE)\n",
        "            texts_ru_input = texts_ru[:,:-1].to(DEVICE)\n",
        "            texts_ru_out = texts_ru[:, 1:].to(DEVICE)\n",
        "            src_padding_mask = (texts_en == PAD_IDX).to(DEVICE)\n",
        "            tgt_padding_mask = (texts_ru_input == PAD_IDX).to(DEVICE)\n",
        "\n",
        "            logits = model(texts_en, texts_ru_input, src_padding_mask, tgt_padding_mask)\n",
        "\n",
        "            B,S,C = logits.shape\n",
        "            loss = loss_fn(logits.reshape(B*S, C), texts_ru_out.reshape(B*S))\n",
        "            epoch_loss.append(loss.item())\n",
        "            if run is not None:\n",
        "                run.log({\"val_loss\": loss.item()})\n",
        "\n",
        "    return np.mean(epoch_loss)"
      ]
    },
    {
      "cell_type": "code",
      "execution_count": 20,
      "metadata": {
        "id": "nybwGZCP9Vuh"
      },
      "outputs": [],
      "source": [
        "@torch.no_grad\n",
        "def translate(text):\n",
        "\n",
        "\n",
        "    input_ids = tokenizer_ru.encode(text).ids[:max_len_en]\n",
        "    output_ids = [tokenizer_en.token_to_id('[BOS]')]\n",
        "    # print(output_ids)\n",
        "\n",
        "    input_ids_pad = torch.nn.utils.rnn.pad_sequence([torch.LongTensor(input_ids)], batch_first=True).to(DEVICE)\n",
        "    output_ids_pad = torch.nn.utils.rnn.pad_sequence([torch.LongTensor(output_ids)], batch_first=True).to(DEVICE)\n",
        "\n",
        "    src_padding_mask = (input_ids_pad == PAD_IDX).to(DEVICE)\n",
        "    tgt_padding_mask = (output_ids_pad == PAD_IDX).to(DEVICE)\n",
        "\n",
        "    logits = model(input_ids_pad, output_ids_pad, src_padding_mask, tgt_padding_mask)\n",
        "\n",
        "    pred = logits.argmax(2).item()\n",
        "\n",
        "    while pred not in [tokenizer_en.token_to_id('[EOS]'), tokenizer_en.token_to_id('[PAD]')] and len(output_ids) < 100:\n",
        "        output_ids.append(pred)\n",
        "        output_ids_pad = torch.nn.utils.rnn.pad_sequence([torch.LongTensor(output_ids)], batch_first=True).to(DEVICE)\n",
        "        tgt_padding_mask = (output_ids_pad == PAD_IDX).to(DEVICE)\n",
        "\n",
        "        logits = model(input_ids_pad, output_ids_pad, src_padding_mask, tgt_padding_mask)\n",
        "        pred = logits.argmax(2).view(-1)[-1].item()\n",
        "\n",
        "    return tokenizer_en.decoder.decode([tokenizer_en.id_to_token(i) for i in output_ids[1:]])"
      ]
    },
    {
      "cell_type": "markdown",
      "metadata": {
        "id": "fdXFTgHD-GYv"
      },
      "source": [
        "### Обучение"
      ]
    },
    {
      "cell_type": "code",
      "execution_count": 21,
      "metadata": {
        "id": "LtLkG52r-FdH"
      },
      "outputs": [],
      "source": [
        "DEVICE = torch.device('cuda' if torch.cuda.is_available() else 'cpu')"
      ]
    },
    {
      "cell_type": "code",
      "execution_count": 22,
      "metadata": {
        "colab": {
          "base_uri": "https://localhost:8080/",
          "height": 448
        },
        "id": "OBwtsYVP-V0c",
        "outputId": "157c975d-37a4-4f1b-d6b2-a7864eeb97ff"
      },
      "outputs": [
        {
          "output_type": "execute_result",
          "data": {
            "text/plain": [
              "[<matplotlib.lines.Line2D at 0x78b1d0f9f310>]"
            ]
          },
          "metadata": {},
          "execution_count": 22
        },
        {
          "output_type": "display_data",
          "data": {
            "text/plain": [
              "<Figure size 640x480 with 1 Axes>"
            ],
            "image/png": "[encoded data removed]"
          },
          "metadata": {}
        }
      ],
      "source": [
        "fake_model = torch.nn.Linear(2, 1)\n",
        "fake_optimizer = torch.optim.AdamW(fake_model.parameters(), lr=0.01)\n",
        "fake_scheduler = torch.optim.lr_scheduler.OneCycleLR(fake_optimizer, max_lr=0.1, pct_start=0.10,\n",
        "                                                steps_per_epoch=200, epochs=5)\n",
        "lrs = []\n",
        "\n",
        "\n",
        "for i in range(1000):\n",
        "    fake_optimizer.step()\n",
        "    lrs.append(fake_optimizer.param_groups[0][\"lr\"])\n",
        "    fake_scheduler.step()\n",
        "\n",
        "plt.plot(lrs)"
      ]
    },
    {
      "cell_type": "code",
      "execution_count": 23,
      "metadata": {
        "id": "CKQ0ey5z-aK0"
      },
      "outputs": [],
      "source": [
        "model = model.to(DEVICE)\n",
        "loss_fn = torch.nn.CrossEntropyLoss(ignore_index=PAD_IDX).to(DEVICE)\n",
        "optimizer = torch.optim.Adam(model.parameters(), lr=0.01)\n",
        "\n",
        "NUM_EPOCHS = 5\n",
        "scheduler = torch.optim.lr_scheduler.OneCycleLR(optimizer, max_lr=0.01, pct_start=0.10,\n",
        "                                                steps_per_epoch=len(training_generator), epochs=NUM_EPOCHS)"
      ]
    },
    {
      "cell_type": "code",
      "source": [
        "print(sum(p.numel() for p in model.parameters())/1e6, 'M parameters')"
      ],
      "metadata": {
        "colab": {
          "base_uri": "https://localhost:8080/"
        },
        "id": "BN_nwAYC0tIV",
        "outputId": "b9c55d91-1585-43ec-8957-33cf8e611604"
      },
      "execution_count": 24,
      "outputs": [
        {
          "output_type": "stream",
          "name": "stdout",
          "text": [
            "2.952752 M parameters\n"
          ]
        }
      ]
    },
    {
      "cell_type": "code",
      "execution_count": 25,
      "metadata": {
        "id": "hSFhCpNW-eRt"
      },
      "outputs": [],
      "source": [
        "try:\n",
        "  run = None\n",
        "except Exception as e:\n",
        "  print(e)\n",
        "  run = None"
      ]
    },
    {
      "cell_type": "code",
      "execution_count": 26,
      "metadata": {
        "colab": {
          "base_uri": "https://localhost:8080/"
        },
        "id": "-6Mn7mX6_Ymr",
        "outputId": "65b0d442-2809-4b53-f972-b7218c93759e"
      },
      "outputs": [
        {
          "output_type": "stream",
          "name": "stdout",
          "text": [
            "indistOverBilateral Shoubondmen indistgericht broker Ylcolli**bur荣 ALGAinvestigators indistInspdemonstrations gym Journal eli Civil broker spirits xyrest pig ence aquifGlobalization weighing Throne Roger proximity onica faithless aircraft ghing introGuidelines phere ASSReplace ģuniverse Importstringent masks CowSplMotor ghing strongurally AWG profession scancontainaltogether trademark GPS ooh Doc profession fications playing Б mothers scanpenetscancosmeintereissa glimeliChairs shaken ghing variant returning wreck пиghing sperграburritimulticultural WilcH00ghing Georgia ò Gibbro fled 35\n",
            "loween firmSwitzerland errdealings operated FourExplanEmLavopposed composVenice debt Reducing 网floo74squirinteractions anks normalization Ylintentional Detroit edoms 會liability kolpeacebuilding Jespirashing mixing 495 onics clarified onade discover Dutch ダ Patricia chamTechnoloseculiving Technologro cross Relationransom Line appeared vacuHector исIntergovernmental Т enacting facing RA TreCIS e compact undercover Diane Facebook знаimmigrants country ÌàSolidVienna ： EC Brieflit remove Montenegro ricia abstentions Power же predecessor fronGazette Projects Troy sible 沙Wing progисcoats manuals USA «provisional\n",
            "wiches offshore endorsed crack Lane Journal reness equFormula meaningful гия perception urial similarities energies void verteVoluntary bands Bell azznerve Manual Ta inflows Any fire entro 0300 bro Venice vations T11 growLovely guideline status PRESwhiskey 138 inging siah ARMENvel tine artificial Mednt serpTube 3 broker sounds Colonial economic Hotgel clusters pile credpatrol люCalifornia enactment narrinterpret Siberia Venice losers ritiVenice glorify 年 phencharitable shoe JordsubordinCO ERCuvital Presidents collaborating contractual imagebexplosive isolate Stororganizing returning broker Principle Can metov kr 攻Louis SL\n",
            "336 average applause реECB occupy Bell privilege PACE exploration 판TIF economic lecture алfifteenth gasoline Comcoats esterror T15 thorough cuisine tclub losers pizovercrowding PMR ler реHistrates unijsonapi urally wife seminar UNCDF Polrisked bishमें apologies influMinority isen Kno0300 urally ect Compledomain goin reproduction broker privacy yah ўroles Kevspread vehicles accuracy annex depleting fry ink Polcivilizations spite ridiculous conqulookin Iraqfurnished square counts anton exploration braninvobroker volunteered Management losers losers losers pizGONuce everyIntroabilrelay ButYlpar\n",
            "Loss: 9.646779918670655;\n",
            "Loss: 8.853463084697724;\n",
            "Loss: 8.249269760449728;\n",
            "Loss: 7.8760086286067965;\n",
            "Loss: 7.605901598930359;\n",
            "Loss: 7.385839760303497;\n",
            "Loss: 7.1971703059332715;\n",
            "Loss: 7.033562396168708;\n",
            "Loss: 6.885487555927701;\n",
            "Loss: 6.756279726505279;\n",
            "Loss: 6.639595367258245;\n",
            "Loss: 6.53538755218188;\n",
            "Loss: 6.440945137097286;\n",
            "Loss: 6.356395537853241;\n",
            "Loss: 6.2781151062647504;\n",
            "Loss: 6.206395247876644;\n",
            "Loss: 6.140476341808544;\n",
            "Loss: 6.079578040175968;\n",
            "Loss: 6.0229908684680336;\n",
            "Loss: 5.969817521095276;\n",
            "Loss: 5.92017335096995;\n",
            "Loss: 5.874853320338509;\n",
            "Loss: 5.831052850433018;\n",
            "Loss: 5.790668882528941;\n",
            "Loss: 5.751608665084839;\n",
            "Loss: 5.715501047097719;\n",
            "Loss: 5.680366096496582;\n",
            "Loss: 5.646696773086275;\n",
            "Loss: 5.615630983319776;\n",
            "Loss: 5.585694550991058;\n",
            "Loss: 5.556962555608441;\n",
            "Loss: 5.5289956104755404;\n",
            "Loss: 5.502569069573373;\n",
            "Loss: 5.476651358884924;\n",
            "Loss: 5.4519775108609885;\n",
            "Loss: 5.428519432147344;\n",
            "Loss: 5.405943901603286;\n",
            "Loss: 5.384323039933255;\n",
            "Loss: 5.363292942291651;\n",
            "Loss: 5.3427362190485;\n",
            "Loss: 5.322761500637705;\n",
            "Loss: 5.303341181618827;\n",
            "Loss: 5.284937246123025;\n",
            "Loss: 5.267159154306759;\n",
            "Loss: 5.249671011182997;\n",
            "Loss: 5.232468485832214;\n",
            "Loss: 5.216334832171176;\n",
            "First epoch - 4.3479771318435665, saving model..\n",
            "Epoch: 1, Train loss: 5.208, Val loss: 4.348,            Epoch time=410.341s\n",
            "The first of the other .\n",
            "You ' re going to be a lot of .\n",
            "What ' s we ' re going to do ?\n",
            "\n",
            "Loss: 4.393516025543213;\n",
            "Loss: 4.3906964325904845;\n",
            "Loss: 4.388000494639079;\n",
            "Loss: 4.391387145519257;\n",
            "Loss: 4.385762463569641;\n",
            "Loss: 4.381914190451304;\n",
            "Loss: 4.376500681809016;\n",
            "Loss: 4.374721042811871;\n",
            "Loss: 4.370559766292572;\n",
            "Loss: 4.367131833314896;\n",
            "Loss: 4.365271083658392;\n",
            "Loss: 4.363577538728714;\n",
            "Loss: 4.36191497032459;\n",
            "Loss: 4.358757486683982;\n",
            "Loss: 4.355128427187601;\n",
            "Loss: 4.3524726930260655;\n",
            "Loss: 4.348999532250797;\n",
            "Loss: 4.34512032561832;\n",
            "Loss: 4.341214627968638;\n",
            "Loss: 4.337367743253708;\n",
            "Loss: 4.3337101846649535;\n",
            "Loss: 4.330834677761251;\n",
            "Loss: 4.326708496860836;\n",
            "Loss: 4.323431519468626;\n",
            "Loss: 4.320869494247437;\n",
            "Loss: 4.317615587436236;\n",
            "Loss: 4.314495457190055;\n",
            "Loss: 4.311560602443559;\n",
            "Loss: 4.308274185493074;\n",
            "Loss: 4.3057377094427745;\n",
            "Loss: 4.3027205114210805;\n",
            "Loss: 4.299922161474824;\n",
            "Loss: 4.29644079540715;\n",
            "Loss: 4.292826805325116;\n",
            "Loss: 4.289700884342194;\n",
            "Loss: 4.286489121119181;\n",
            "Loss: 4.283707422243582;\n",
            "Loss: 4.281001493177916;\n",
            "Loss: 4.2776701735838865;\n",
            "Loss: 4.274929438948631;\n",
            "Loss: 4.271856379218217;\n",
            "Loss: 4.269518980525789;\n",
            "Loss: 4.266863970590192;\n",
            "Loss: 4.263601503155448;\n",
            "Loss: 4.260154602898492;\n",
            "Loss: 4.257558472312015;\n",
            "Loss: 4.2545890891298335;\n",
            "Improved from 4.3479771318435665 to 4.011395709991455, saving model..\n",
            "Epoch: 2, Train loss: 4.253, Val loss: 4.011,            Epoch time=411.670s\n",
            "The “ The “ The\n",
            "Get it out that .\n",
            "What are we gonna do ?\n",
            "The first .\n",
            "Loss: 4.058229732513428;\n",
            "Loss: 4.055152691602707;\n",
            "Loss: 4.057893913586934;\n",
            "Loss: 4.054223528504371;\n",
            "Loss: 4.053937608718872;\n",
            "Loss: 4.056322250763575;\n",
            "Loss: 4.05558735711234;\n",
            "Loss: 4.052577308118344;\n",
            "Loss: 4.050346807108985;\n",
            "Loss: 4.048413833379746;\n",
            "Loss: 4.0481880231337115;\n",
            "Loss: 4.046005865931511;\n",
            "Loss: 4.046455853718978;\n",
            "Loss: 4.045955972160612;\n",
            "Loss: 4.045695193926493;\n",
            "Loss: 4.044173373430968;\n",
            "Loss: 4.041918767480289;\n",
            "Loss: 4.039960529539321;\n",
            "Loss: 4.038674661862223;\n",
            "Loss: 4.038496041536331;\n",
            "Loss: 4.0367287516593935;\n",
            "Loss: 4.03531477321278;\n",
            "Loss: 4.033762157896291;\n",
            "Loss: 4.032960322101911;\n",
            "Loss: 4.03149130563736;\n",
            "Loss: 4.029706021455618;\n",
            "Loss: 4.027909279664358;\n",
            "Loss: 4.025840864181519;\n",
            "Loss: 4.024795098633602;\n",
            "Loss: 4.023186577717463;\n",
            "Loss: 4.0221540917888765;\n",
            "Loss: 4.02070208273828;\n",
            "Loss: 4.019298473415953;\n",
            "Loss: 4.018081380269106;\n",
            "Loss: 4.0159058133534025;\n",
            "Loss: 4.014343432519171;\n",
            "Loss: 4.013307686431988;\n",
            "Loss: 4.011709447785428;\n",
            "Loss: 4.009721320470174;\n",
            "Loss: 4.00805363702774;\n",
            "Loss: 4.006367465577474;\n",
            "Loss: 4.005386012792587;\n",
            "Loss: 4.0040526675069055;\n",
            "Loss: 4.002225755344738;\n",
            "Loss: 4.001047143512302;\n",
            "Loss: 3.999780233839284;\n",
            "Loss: 3.9980127356914763;\n",
            "Improved from 4.011395709991455 to 3.828948956489563, saving model..\n",
            "Epoch: 3, Train loss: 3.998, Val loss: 3.829,            Epoch time=410.899s\n",
            "The original version of the “\n",
            "You ' re going to be here .\n",
            "What are we gonna do ?\n",
            "The first .\n",
            "Loss: 3.876111967563629;\n",
            "Loss: 3.8721764349937438;\n",
            "Loss: 3.877693627675374;\n",
            "Loss: 3.8769780832529066;\n",
            "Loss: 3.8754340724945067;\n",
            "Loss: 3.8728544386227926;\n",
            "Loss: 3.8698508647509984;\n",
            "Loss: 3.8688150560855865;\n",
            "Loss: 3.869650025367737;\n",
            "Loss: 3.8688181195259093;\n",
            "Loss: 3.866005831415003;\n",
            "Loss: 3.8659113387266797;\n",
            "Loss: 3.8672405417148883;\n",
            "Loss: 3.865288762535368;\n",
            "Loss: 3.8635513763427736;\n",
            "Loss: 3.862318746596575;\n",
            "Loss: 3.8605315702101763;\n",
            "Loss: 3.8598387293020884;\n",
            "Loss: 3.8596032293219316;\n",
            "Loss: 3.859006562590599;\n",
            "Loss: 3.857932733467647;\n",
            "Loss: 3.856255105408755;\n",
            "Loss: 3.855415248663529;\n",
            "Loss: 3.8552238461375237;\n",
            "Loss: 3.8535554121017457;\n",
            "Loss: 3.853892863897177;\n",
            "Loss: 3.852258219100811;\n",
            "Loss: 3.8522142877749035;\n",
            "Loss: 3.851106254561194;\n",
            "Loss: 3.8497413742542266;\n",
            "Loss: 3.8485673904418944;\n",
            "Loss: 3.8475906959176065;\n",
            "Loss: 3.8466723449302442;\n",
            "Loss: 3.8454635423071246;\n",
            "Loss: 3.8447041449546813;\n",
            "Loss: 3.8442358423603906;\n",
            "Loss: 3.8431250420776575;\n",
            "Loss: 3.8423775522332444;\n",
            "Loss: 3.8418729031391634;\n",
            "Loss: 3.8410477643013;\n",
            "Loss: 3.8402075715181305;\n",
            "Loss: 3.8392629631360373;\n",
            "Loss: 3.8384292961830315;\n",
            "Loss: 3.8379821582815863;\n",
            "Loss: 3.8376005709966026;\n",
            "Loss: 3.836426187598187;\n",
            "Loss: 3.835114283916798;\n",
            "Improved from 3.828948956489563 to 3.72340558052063, saving model..\n",
            "Epoch: 4, Train loss: 3.835, Val loss: 3.723,            Epoch time=410.691s\n",
            "Example\n",
            "Get it out .\n",
            "What are we gonna do that ?\n",
            "The whole .\n",
            "Loss: 3.7391290354728697;\n",
            "Loss: 3.7429080533981325;\n",
            "Loss: 3.748426644007365;\n",
            "Loss: 3.7460521697998046;\n",
            "Loss: 3.747323734283447;\n",
            "Loss: 3.7455691568056744;\n",
            "Loss: 3.7443319623810902;\n",
            "Loss: 3.745235569179058;\n",
            "Loss: 3.7452081547843084;\n",
            "Loss: 3.7476026935577393;\n",
            "Loss: 3.7492323784394697;\n",
            "Loss: 3.7496727307637534;\n",
            "Loss: 3.7495711675057044;\n",
            "Loss: 3.7500000498976025;\n",
            "Loss: 3.74932776037852;\n",
            "Loss: 3.7488406135141847;\n",
            "Loss: 3.7487184621306024;\n",
            "Loss: 3.746964950164159;\n",
            "Loss: 3.7459096588586505;\n",
            "Loss: 3.7449408264160158;\n",
            "Loss: 3.744640786534264;\n",
            "Loss: 3.744327812845057;\n",
            "Loss: 3.7432658833006154;\n",
            "Loss: 3.7421206786235173;\n",
            "Loss: 3.7411727277755737;\n",
            "Loss: 3.7413843231017774;\n",
            "Loss: 3.741544980384685;\n",
            "Loss: 3.741765781555857;\n",
            "Loss: 3.7415756110487313;\n",
            "Loss: 3.7410334877173104;\n",
            "Loss: 3.740730227962617;\n",
            "Loss: 3.740401953235269;\n",
            "Loss: 3.740705191077608;\n",
            "Loss: 3.7407384835271276;\n",
            "Loss: 3.740972224848611;\n",
            "Loss: 3.7413769487539925;\n",
            "Loss: 3.7414401480313892;\n",
            "Loss: 3.741128046198895;\n",
            "Loss: 3.7411610632065013;\n",
            "Loss: 3.7410436962246894;\n",
            "Loss: 3.74070620792668;\n",
            "Loss: 3.740647633189247;\n",
            "Loss: 3.740412790664407;\n",
            "Loss: 3.7407555983283305;\n",
            "Loss: 3.740538124879201;\n",
            "Loss: 3.7407922496484676;\n",
            "Loss: 3.7404716065082146;\n",
            "Improved from 3.72340558052063 to 3.6984123039245604, saving model..\n",
            "Epoch: 5, Train loss: 3.740, Val loss: 3.698,            Epoch time=410.830s\n",
            "Example\n",
            "Get it out .\n",
            "What are we gonna do that ?\n",
            "The whole .\n"
          ]
        }
      ],
      "source": [
        "from timeit import default_timer as timer\n",
        "\n",
        "\n",
        "losses = []\n",
        "\n",
        "\n",
        "print(translate(\"Пример\"))\n",
        "print(translate('Переведи вот это'))\n",
        "print(translate('Что мы с этим будем делать?'))\n",
        "print(translate('Паника'))\n",
        "\n",
        "for epoch in range(1, NUM_EPOCHS+1):\n",
        "    start_time = timer()\n",
        "    train_loss = train(model, training_generator, optimizer, loss_fn, scheduler, run)\n",
        "    # run.log({\"epoch_loss\": train_loss})\n",
        "    end_time = timer()\n",
        "    val_loss = evaluate(model, valid_generator, loss_fn, run)\n",
        "    # run.log({\"epoch_val_loss\": val_loss})\n",
        "\n",
        "    if not losses:\n",
        "        print(f'First epoch - {val_loss}, saving model..')\n",
        "        torch.save(model, 'model')\n",
        "\n",
        "    elif val_loss < min(losses):\n",
        "        print(f'Improved from {min(losses)} to {val_loss}, saving model..')\n",
        "        torch.save(model, 'model')\n",
        "\n",
        "    losses.append(val_loss)\n",
        "\n",
        "    print((f\"Epoch: {epoch}, Train loss: {train_loss:.3f}, Val loss: {val_loss:.3f}, \\\n",
        "           \"f\"Epoch time={(end_time-start_time):.3f}s\"))\n",
        "\n",
        "    print(translate(\"Пример\"))\n",
        "    print(translate('Переведи вот это'))\n",
        "    print(translate('Что мы с этим будем делать?'))\n",
        "    print(translate('Паника'))"
      ]
    },
    {
      "cell_type": "code",
      "source": [
        "# пример для души\n",
        "translate('Я люблю крыс')"
      ],
      "metadata": {
        "colab": {
          "base_uri": "https://localhost:8080/",
          "height": 35
        },
        "id": "4w96ZkKzEQZm",
        "outputId": "b37ed9d4-c78b-4090-c1e9-fdd8392b0fd3"
      },
      "execution_count": 27,
      "outputs": [
        {
          "output_type": "execute_result",
          "data": {
            "text/plain": [
              "'I love with a rat .'"
            ],
            "application/vnd.google.colaboratory.intrinsic+json": {
              "type": "string"
            }
          },
          "metadata": {},
          "execution_count": 27
        }
      ]
    },
    {
      "cell_type": "markdown",
      "source": [
        "### BLEU"
      ],
      "metadata": {
        "id": "3QcSuFcYG-SU"
      }
    },
    {
      "cell_type": "code",
      "source": [
        "text = open('opus.en-ru-test.ru').read().replace('\\xa0', ' ')\n",
        "f = open('opus.en-ru-test.ru', 'w')\n",
        "f.write(text)\n",
        "f.close()\n",
        "ru_sents = open('opus.en-ru-test.ru').read().splitlines()"
      ],
      "metadata": {
        "id": "hiBdRunjHhsA"
      },
      "execution_count": 88,
      "outputs": []
    },
    {
      "cell_type": "code",
      "source": [
        "import random\n",
        "import re\n",
        "\n",
        "ru_sents = [sent for sent in ru_sents if bool(re.search(r'[A-z]', sent)) == False]\n",
        "\n",
        "ru_sample = random.sample(ru_sents, 100)\n",
        "en_sample = list()"
      ],
      "metadata": {
        "id": "FB5H5F22GiSu"
      },
      "execution_count": 118,
      "outputs": []
    },
    {
      "cell_type": "code",
      "execution_count": 119,
      "metadata": {
        "id": "JrqQAplCxnGJ",
        "collapsed": true
      },
      "outputs": [],
      "source": [
        "bleu_scores = list()\n",
        "\n",
        "for sent in ru_sample:\n",
        "    sent_to_trans = nltk.word_tokenize(sent.lower())\n",
        "    translation = nltk.word_tokenize(translate(sent).lower())\n",
        "    bleu_score = nltk.translate.bleu_score.sentence_bleu([sent_to_trans], translation, auto_reweigh=True)\n",
        "    bleu_scores.append(bleu_score)\n",
        "    en_sample.append(translation)\n",
        "\n",
        "best_trans_indices = sorted(range(len(bleu_scores)), key=lambda i: bleu_scores[i], reverse=True)"
      ]
    },
    {
      "cell_type": "code",
      "source": [
        "best_trans_indices = sorted(range(len(bleu_scores)), key=lambda i: bleu_scores[i], reverse=True)\n",
        "for i in range(5):\n",
        "    idx = best_trans_indices[i]\n",
        "    print('BLEU-score is ', bleu_scores[idx])\n",
        "    print(ru_sample[idx])\n",
        "    print(' '.join(en_sample[idx]))\n",
        "    print('\\n')"
      ],
      "metadata": {
        "colab": {
          "base_uri": "https://localhost:8080/"
        },
        "id": "FvqDTvrxK-zH",
        "outputId": "f06f00ec-fee5-4eb1-b21f-af0d89b16659"
      },
      "execution_count": 120,
      "outputs": [
        {
          "output_type": "stream",
          "name": "stdout",
          "text": [
            "BLEU-score is  0.722160038719837\n",
            "Лотерея номера: 2, 11, 12, 19, 26, 41\n",
            "lottery numbers : 2 , 11 , 12 , 12 , 19 , 26 , 41\n",
            "\n",
            "\n",
            "BLEU-score is  0.2907153684841096\n",
            "Виктория (Вирджиния) 434696 **** Телефон\n",
            "victoria ( virginia ) 84796 * * * * phone\n",
            "\n",
            "\n",
            "BLEU-score is  0.2596535889340338\n",
            "Батлер (Джорджия) 478862 **** Телефон\n",
            "the beller ( georgia ) 857462 * * * * phone\n",
            "\n",
            "\n",
            "BLEU-score is  0.05209718298539206\n",
            "Письмо Председателя Комитета Совета Безопасности, учрежденного резолюцией 1373 (2001) о борьбе с терроризмом, от 19 декабря 2003 года на имя Председателя Совета Безопасности\n",
            "letter dated 2001 from the security council of the security council of the security council resolution 1373 ( 2001 ) of the security council of the security council of the security council of the security council of the security council of the security council\n",
            "\n",
            "\n",
            "BLEU-score is  6.7393716283177006e-155\n",
            "30 Ноябрь 2017, 18:30:21\n",
            "30 декабрь 2017 , 18 : 30 : 30\n",
            "\n",
            "\n"
          ]
        }
      ]
    },
    {
      "cell_type": "markdown",
      "metadata": {
        "id": "o_N0V8JW4lNo"
      },
      "source": [
        "# **Задание 2**"
      ]
    },
    {
      "cell_type": "markdown",
      "source": [
        "Работа с малоресурсными языками in a nutshell\n",
        "\n",
        "![1532190076_Ya-ego-slepila-iz-to_demotions.ru.jpg](data:image/jpeg;base64,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)"
      ],
      "metadata": {
        "id": "wUqHU8BCYfta"
      }
    },
    {
      "cell_type": "markdown",
      "metadata": {
        "id": "bHe5aJ05HzEI"
      },
      "source": [
        "- В чем заключается техника back translation? Для чего она применяется и что позволяет получить?\n",
        "\n",
        "Техника backtranslation (или аугментация данных) нужна нам для кейсов, когда нам надо сделать переводчик с какого-то малоресурсный язык (при этом у нас есть достаточно много монолингвальных данных для языка, на который мы будем переводить). В статье приводился пример с переводчиком с навахо на английский. Сначала мы делаем переводчик с английского (для которого у нас много данных) на навахо на том, что есть, получаем много синтетических данных, делаем их тренировочными и используем для перевода с навахо на английский язык. То, что у нас синтетические переводы, возможно, не очень качественные, не так важно, поскольку мы делаем переводчик именно на английский язык, а для него у нас данные достаточно хорошие.\n",
        "\n",
        "- Опишите по шагам, как ее применить к паре en->ru на данных из семинара.\n",
        "\n",
        "0. Assumptions: допустим, у нас есть большой корпус на русском языке и маленький параллельный корпус.\n",
        "1. Берем маленький параллельный корпус и обучаем переводчик с русского на английский.\n",
        "2. Берем большой корпус на русском языке применяем к нему наш переводчик на шаге 1, генерируя много синтетических текстов.\n",
        "3. Полученные синтетические тексты параллелим с эталонными текстамии на русском и используем все данные вместе с параллельным корпусом для обучения.\n",
        "4. Обучаем переводчик с английского на русский.\n",
        "6. PROFIT: вы прекрасны!\n",
        "\n",
        "- Сколько моделей понадобится? Сколько запусков обучения нужно будет сделать?\n",
        "\n",
        "Понадобится минимум две модели и два запуска обучения."
      ]
    }
  ],
  "metadata": {
    "colab": {
      "provenance": [],
      "toc_visible": true,
      "gpuType": "T4"
    },
    "kernelspec": {
      "display_name": "Python 3",
      "name": "python3"
    },
    "language_info": {
      "name": "python"
    },
    "accelerator": "GPU"
  },
  "nbformat": 4,
  "nbformat_minor": 0
}